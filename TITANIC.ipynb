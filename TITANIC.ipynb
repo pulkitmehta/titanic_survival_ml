{
 "cells": [
  {
   "cell_type": "markdown",
   "metadata": {},
   "source": [
    "# GOAL: To Predict Survival of a person in Titanic-like Shipwreck."
   ]
  },
  {
   "cell_type": "markdown",
   "metadata": {},
   "source": [
    "## LIBRARIES"
   ]
  },
  {
   "cell_type": "code",
   "execution_count": 1,
   "metadata": {},
   "outputs": [],
   "source": [
    "import numpy as np\n",
    "import pandas as pd\n",
    "import matplotlib.pyplot as plt\n",
    "from sklearn.model_selection import train_test_split, GridSearchCV\n",
    "from sklearn.svm import SVC\n",
    "from sklearn.ensemble import RandomForestClassifier\n",
    "from sklearn.linear_model import LogisticRegression\n",
    "from sklearn.neighbors import KNeighborsClassifier\n",
    "from sklearn.preprocessing import StandardScaler, MinMaxScaler\n",
    "from sklearn.manifold import TSNE\n",
    "from sklearn.decomposition import PCA\n",
    "from sklearn.feature_selection import SelectFromModel\n",
    "from sklearn.metrics import confusion_matrix\n",
    "from sklearn.metrics import classification_report\n",
    "import warnings\n",
    "warnings.filterwarnings(\"ignore\")\n",
    "%matplotlib inline"
   ]
  },
  {
   "cell_type": "code",
   "execution_count": 2,
   "metadata": {},
   "outputs": [],
   "source": [
    "train_data= pd.read_csv(\"train.csv\")\n",
    "train_target=train_data['Survived']\n",
    "test_data= pd.read_csv(\"test.csv\")\n",
    "test_target=pd.read_csv(\"gender_submission.csv\")['Survived']"
   ]
  },
  {
   "cell_type": "code",
   "execution_count": 3,
   "metadata": {},
   "outputs": [],
   "source": [
    "train_data=train_data.drop(columns=['Survived','Name','PassengerId','Ticket'])\n",
    "test_data=test_data.drop(columns=['Name','PassengerId','Ticket'])"
   ]
  },
  {
   "cell_type": "code",
   "execution_count": 4,
   "metadata": {
    "scrolled": true
   },
   "outputs": [
    {
     "data": {
      "text/html": [
       "<div>\n",
       "<style scoped>\n",
       "    .dataframe tbody tr th:only-of-type {\n",
       "        vertical-align: middle;\n",
       "    }\n",
       "\n",
       "    .dataframe tbody tr th {\n",
       "        vertical-align: top;\n",
       "    }\n",
       "\n",
       "    .dataframe thead th {\n",
       "        text-align: right;\n",
       "    }\n",
       "</style>\n",
       "<table border=\"1\" class=\"dataframe\">\n",
       "  <thead>\n",
       "    <tr style=\"text-align: right;\">\n",
       "      <th></th>\n",
       "      <th>Pclass</th>\n",
       "      <th>Sex</th>\n",
       "      <th>Age</th>\n",
       "      <th>SibSp</th>\n",
       "      <th>Parch</th>\n",
       "      <th>Fare</th>\n",
       "      <th>Cabin</th>\n",
       "      <th>Embarked</th>\n",
       "    </tr>\n",
       "  </thead>\n",
       "  <tbody>\n",
       "    <tr>\n",
       "      <th>0</th>\n",
       "      <td>3</td>\n",
       "      <td>male</td>\n",
       "      <td>22.0</td>\n",
       "      <td>1</td>\n",
       "      <td>0</td>\n",
       "      <td>7.2500</td>\n",
       "      <td>NaN</td>\n",
       "      <td>S</td>\n",
       "    </tr>\n",
       "    <tr>\n",
       "      <th>1</th>\n",
       "      <td>1</td>\n",
       "      <td>female</td>\n",
       "      <td>38.0</td>\n",
       "      <td>1</td>\n",
       "      <td>0</td>\n",
       "      <td>71.2833</td>\n",
       "      <td>C85</td>\n",
       "      <td>C</td>\n",
       "    </tr>\n",
       "    <tr>\n",
       "      <th>2</th>\n",
       "      <td>3</td>\n",
       "      <td>female</td>\n",
       "      <td>26.0</td>\n",
       "      <td>0</td>\n",
       "      <td>0</td>\n",
       "      <td>7.9250</td>\n",
       "      <td>NaN</td>\n",
       "      <td>S</td>\n",
       "    </tr>\n",
       "    <tr>\n",
       "      <th>3</th>\n",
       "      <td>1</td>\n",
       "      <td>female</td>\n",
       "      <td>35.0</td>\n",
       "      <td>1</td>\n",
       "      <td>0</td>\n",
       "      <td>53.1000</td>\n",
       "      <td>C123</td>\n",
       "      <td>S</td>\n",
       "    </tr>\n",
       "    <tr>\n",
       "      <th>4</th>\n",
       "      <td>3</td>\n",
       "      <td>male</td>\n",
       "      <td>35.0</td>\n",
       "      <td>0</td>\n",
       "      <td>0</td>\n",
       "      <td>8.0500</td>\n",
       "      <td>NaN</td>\n",
       "      <td>S</td>\n",
       "    </tr>\n",
       "  </tbody>\n",
       "</table>\n",
       "</div>"
      ],
      "text/plain": [
       "   Pclass     Sex   Age  SibSp  Parch     Fare Cabin Embarked\n",
       "0       3    male  22.0      1      0   7.2500   NaN        S\n",
       "1       1  female  38.0      1      0  71.2833   C85        C\n",
       "2       3  female  26.0      0      0   7.9250   NaN        S\n",
       "3       1  female  35.0      1      0  53.1000  C123        S\n",
       "4       3    male  35.0      0      0   8.0500   NaN        S"
      ]
     },
     "execution_count": 4,
     "metadata": {},
     "output_type": "execute_result"
    }
   ],
   "source": [
    "train_data.head()"
   ]
  },
  {
   "cell_type": "code",
   "execution_count": 5,
   "metadata": {},
   "outputs": [
    {
     "data": {
      "text/html": [
       "<div>\n",
       "<style scoped>\n",
       "    .dataframe tbody tr th:only-of-type {\n",
       "        vertical-align: middle;\n",
       "    }\n",
       "\n",
       "    .dataframe tbody tr th {\n",
       "        vertical-align: top;\n",
       "    }\n",
       "\n",
       "    .dataframe thead th {\n",
       "        text-align: right;\n",
       "    }\n",
       "</style>\n",
       "<table border=\"1\" class=\"dataframe\">\n",
       "  <thead>\n",
       "    <tr style=\"text-align: right;\">\n",
       "      <th></th>\n",
       "      <th>Pclass</th>\n",
       "      <th>Sex</th>\n",
       "      <th>Age</th>\n",
       "      <th>SibSp</th>\n",
       "      <th>Parch</th>\n",
       "      <th>Fare</th>\n",
       "      <th>Cabin</th>\n",
       "      <th>Embarked</th>\n",
       "    </tr>\n",
       "  </thead>\n",
       "  <tbody>\n",
       "    <tr>\n",
       "      <th>0</th>\n",
       "      <td>3</td>\n",
       "      <td>male</td>\n",
       "      <td>34.5</td>\n",
       "      <td>0</td>\n",
       "      <td>0</td>\n",
       "      <td>7.8292</td>\n",
       "      <td>NaN</td>\n",
       "      <td>Q</td>\n",
       "    </tr>\n",
       "    <tr>\n",
       "      <th>1</th>\n",
       "      <td>3</td>\n",
       "      <td>female</td>\n",
       "      <td>47.0</td>\n",
       "      <td>1</td>\n",
       "      <td>0</td>\n",
       "      <td>7.0000</td>\n",
       "      <td>NaN</td>\n",
       "      <td>S</td>\n",
       "    </tr>\n",
       "    <tr>\n",
       "      <th>2</th>\n",
       "      <td>2</td>\n",
       "      <td>male</td>\n",
       "      <td>62.0</td>\n",
       "      <td>0</td>\n",
       "      <td>0</td>\n",
       "      <td>9.6875</td>\n",
       "      <td>NaN</td>\n",
       "      <td>Q</td>\n",
       "    </tr>\n",
       "    <tr>\n",
       "      <th>3</th>\n",
       "      <td>3</td>\n",
       "      <td>male</td>\n",
       "      <td>27.0</td>\n",
       "      <td>0</td>\n",
       "      <td>0</td>\n",
       "      <td>8.6625</td>\n",
       "      <td>NaN</td>\n",
       "      <td>S</td>\n",
       "    </tr>\n",
       "    <tr>\n",
       "      <th>4</th>\n",
       "      <td>3</td>\n",
       "      <td>female</td>\n",
       "      <td>22.0</td>\n",
       "      <td>1</td>\n",
       "      <td>1</td>\n",
       "      <td>12.2875</td>\n",
       "      <td>NaN</td>\n",
       "      <td>S</td>\n",
       "    </tr>\n",
       "  </tbody>\n",
       "</table>\n",
       "</div>"
      ],
      "text/plain": [
       "   Pclass     Sex   Age  SibSp  Parch     Fare Cabin Embarked\n",
       "0       3    male  34.5      0      0   7.8292   NaN        Q\n",
       "1       3  female  47.0      1      0   7.0000   NaN        S\n",
       "2       2    male  62.0      0      0   9.6875   NaN        Q\n",
       "3       3    male  27.0      0      0   8.6625   NaN        S\n",
       "4       3  female  22.0      1      1  12.2875   NaN        S"
      ]
     },
     "execution_count": 5,
     "metadata": {},
     "output_type": "execute_result"
    }
   ],
   "source": [
    "test_data.head()"
   ]
  },
  {
   "cell_type": "code",
   "execution_count": 6,
   "metadata": {
    "scrolled": true
   },
   "outputs": [
    {
     "data": {
      "text/plain": [
       "0    0\n",
       "1    1\n",
       "2    1\n",
       "3    1\n",
       "4    0\n",
       "Name: Survived, dtype: int64"
      ]
     },
     "execution_count": 6,
     "metadata": {},
     "output_type": "execute_result"
    }
   ],
   "source": [
    "train_target.head()"
   ]
  },
  {
   "cell_type": "code",
   "execution_count": 7,
   "metadata": {},
   "outputs": [
    {
     "data": {
      "text/plain": [
       "0    0\n",
       "1    1\n",
       "2    0\n",
       "3    0\n",
       "4    1\n",
       "Name: Survived, dtype: int64"
      ]
     },
     "execution_count": 7,
     "metadata": {},
     "output_type": "execute_result"
    }
   ],
   "source": [
    "test_target.head()"
   ]
  },
  {
   "cell_type": "markdown",
   "metadata": {},
   "source": [
    "### Data Cleaning and Value Counts"
   ]
  },
  {
   "cell_type": "code",
   "execution_count": 8,
   "metadata": {
    "scrolled": false
   },
   "outputs": [
    {
     "name": "stdout",
     "output_type": "stream",
     "text": [
      "TRAIN DATA\n",
      " 3    491\n",
      "1    216\n",
      "2    184\n",
      "Name: Pclass, dtype: int64 \n",
      "-----------------------------TEST DATA\n",
      " 3    218\n",
      "1    107\n",
      "2     93\n",
      "Name: Pclass, dtype: int64 \n",
      "=============================\n",
      "TRAIN DATA\n",
      " male      577\n",
      "female    314\n",
      "Name: Sex, dtype: int64 \n",
      "-----------------------------TEST DATA\n",
      " male      266\n",
      "female    152\n",
      "Name: Sex, dtype: int64 \n",
      "=============================\n",
      "TRAIN DATA\n",
      " 24.00    30\n",
      "22.00    27\n",
      "18.00    26\n",
      "19.00    25\n",
      "30.00    25\n",
      "28.00    25\n",
      "21.00    24\n",
      "25.00    23\n",
      "36.00    22\n",
      "29.00    20\n",
      "32.00    18\n",
      "27.00    18\n",
      "35.00    18\n",
      "26.00    18\n",
      "16.00    17\n",
      "31.00    17\n",
      "20.00    15\n",
      "33.00    15\n",
      "23.00    15\n",
      "34.00    15\n",
      "39.00    14\n",
      "17.00    13\n",
      "42.00    13\n",
      "40.00    13\n",
      "45.00    12\n",
      "38.00    11\n",
      "50.00    10\n",
      "2.00     10\n",
      "4.00     10\n",
      "47.00     9\n",
      "         ..\n",
      "71.00     2\n",
      "59.00     2\n",
      "63.00     2\n",
      "0.83      2\n",
      "30.50     2\n",
      "70.00     2\n",
      "57.00     2\n",
      "0.75      2\n",
      "13.00     2\n",
      "10.00     2\n",
      "64.00     2\n",
      "40.50     2\n",
      "32.50     2\n",
      "45.50     2\n",
      "20.50     1\n",
      "24.50     1\n",
      "0.67      1\n",
      "14.50     1\n",
      "0.92      1\n",
      "74.00     1\n",
      "34.50     1\n",
      "80.00     1\n",
      "12.00     1\n",
      "36.50     1\n",
      "53.00     1\n",
      "55.50     1\n",
      "70.50     1\n",
      "66.00     1\n",
      "23.50     1\n",
      "0.42      1\n",
      "Name: Age, Length: 88, dtype: int64 \n",
      "-----------------------------TEST DATA\n",
      " 24.00    17\n",
      "21.00    17\n",
      "22.00    16\n",
      "30.00    15\n",
      "18.00    13\n",
      "27.00    12\n",
      "26.00    12\n",
      "25.00    11\n",
      "23.00    11\n",
      "29.00    10\n",
      "36.00     9\n",
      "45.00     9\n",
      "20.00     8\n",
      "17.00     7\n",
      "28.00     7\n",
      "32.00     6\n",
      "31.00     6\n",
      "55.00     6\n",
      "33.00     6\n",
      "39.00     6\n",
      "35.00     5\n",
      "41.00     5\n",
      "47.00     5\n",
      "40.00     5\n",
      "50.00     5\n",
      "42.00     5\n",
      "48.00     5\n",
      "19.00     4\n",
      "43.00     4\n",
      "1.00      3\n",
      "         ..\n",
      "8.00      2\n",
      "63.00     2\n",
      "14.00     2\n",
      "22.50     1\n",
      "62.00     1\n",
      "0.83      1\n",
      "67.00     1\n",
      "28.50     1\n",
      "0.33      1\n",
      "0.17      1\n",
      "38.50     1\n",
      "3.00      1\n",
      "51.00     1\n",
      "5.00      1\n",
      "44.00     1\n",
      "14.50     1\n",
      "59.00     1\n",
      "58.00     1\n",
      "0.75      1\n",
      "0.92      1\n",
      "36.50     1\n",
      "40.50     1\n",
      "11.50     1\n",
      "34.00     1\n",
      "15.00     1\n",
      "7.00      1\n",
      "60.50     1\n",
      "26.50     1\n",
      "76.00     1\n",
      "34.50     1\n",
      "Name: Age, Length: 79, dtype: int64 \n",
      "=============================\n",
      "TRAIN DATA\n",
      " 0    608\n",
      "1    209\n",
      "2     28\n",
      "4     18\n",
      "3     16\n",
      "8      7\n",
      "5      5\n",
      "Name: SibSp, dtype: int64 \n",
      "-----------------------------TEST DATA\n",
      " 0    283\n",
      "1    110\n",
      "2     14\n",
      "4      4\n",
      "3      4\n",
      "8      2\n",
      "5      1\n",
      "Name: SibSp, dtype: int64 \n",
      "=============================\n",
      "TRAIN DATA\n",
      " 0    678\n",
      "1    118\n",
      "2     80\n",
      "5      5\n",
      "3      5\n",
      "4      4\n",
      "6      1\n",
      "Name: Parch, dtype: int64 \n",
      "-----------------------------TEST DATA\n",
      " 0    324\n",
      "1     52\n",
      "2     33\n",
      "3      3\n",
      "9      2\n",
      "4      2\n",
      "6      1\n",
      "5      1\n",
      "Name: Parch, dtype: int64 \n",
      "=============================\n",
      "TRAIN DATA\n",
      " 8.0500      43\n",
      "13.0000     42\n",
      "7.8958      38\n",
      "7.7500      34\n",
      "26.0000     31\n",
      "10.5000     24\n",
      "7.9250      18\n",
      "7.7750      16\n",
      "26.5500     15\n",
      "0.0000      15\n",
      "7.2292      15\n",
      "7.8542      13\n",
      "8.6625      13\n",
      "7.2500      13\n",
      "7.2250      12\n",
      "16.1000      9\n",
      "9.5000       9\n",
      "24.1500      8\n",
      "15.5000      8\n",
      "56.4958      7\n",
      "52.0000      7\n",
      "14.5000      7\n",
      "14.4542      7\n",
      "69.5500      7\n",
      "7.0500       7\n",
      "31.2750      7\n",
      "46.9000      6\n",
      "30.0000      6\n",
      "7.7958       6\n",
      "39.6875      6\n",
      "            ..\n",
      "7.1417       1\n",
      "42.4000      1\n",
      "211.5000     1\n",
      "12.2750      1\n",
      "61.1750      1\n",
      "8.4333       1\n",
      "51.4792      1\n",
      "7.8875       1\n",
      "8.6833       1\n",
      "7.5208       1\n",
      "34.6542      1\n",
      "28.7125      1\n",
      "25.5875      1\n",
      "7.7292       1\n",
      "12.2875      1\n",
      "8.6542       1\n",
      "8.7125       1\n",
      "61.3792      1\n",
      "6.9500       1\n",
      "9.8417       1\n",
      "8.3000       1\n",
      "13.7917      1\n",
      "9.4750       1\n",
      "13.4167      1\n",
      "26.3875      1\n",
      "8.4583       1\n",
      "9.8375       1\n",
      "8.3625       1\n",
      "14.1083      1\n",
      "17.4000      1\n",
      "Name: Fare, Length: 248, dtype: int64 \n",
      "-----------------------------TEST DATA\n",
      " 7.7500      21\n",
      "26.0000     19\n",
      "8.0500      17\n",
      "13.0000     17\n",
      "7.8958      11\n",
      "10.5000     11\n",
      "7.7750      10\n",
      "7.2292       9\n",
      "7.2250       9\n",
      "8.6625       8\n",
      "7.8542       8\n",
      "21.0000      8\n",
      "26.5500      7\n",
      "7.8792       6\n",
      "27.7208      6\n",
      "7.2500       5\n",
      "7.9250       5\n",
      "262.3750     5\n",
      "211.5000     4\n",
      "69.5500      4\n",
      "14.5000      4\n",
      "7.5500       4\n",
      "7.7958       4\n",
      "15.2458      4\n",
      "55.4417      3\n",
      "31.3875      3\n",
      "31.5000      3\n",
      "14.4542      3\n",
      "9.5000       3\n",
      "221.7792     3\n",
      "            ..\n",
      "50.4958      1\n",
      "39.4000      1\n",
      "34.3750      1\n",
      "7.7208       1\n",
      "7.8500       1\n",
      "76.2917      1\n",
      "7.7250       1\n",
      "9.2250       1\n",
      "39.6875      1\n",
      "75.2500      1\n",
      "13.8625      1\n",
      "6.9500       1\n",
      "61.1750      1\n",
      "78.8500      1\n",
      "20.2125      1\n",
      "247.5208     1\n",
      "7.5750       1\n",
      "28.5375      1\n",
      "227.5250     1\n",
      "108.9000     1\n",
      "6.4958       1\n",
      "7.6292       1\n",
      "47.1000      1\n",
      "22.3583      1\n",
      "17.4000      1\n",
      "9.3250       1\n",
      "14.4583      1\n",
      "15.0333      1\n",
      "25.4667      1\n",
      "21.0750      1\n",
      "Name: Fare, Length: 169, dtype: int64 \n",
      "=============================\n",
      "TRAIN DATA\n",
      " B96 B98            4\n",
      "G6                 4\n",
      "C23 C25 C27        4\n",
      "F33                3\n",
      "F2                 3\n",
      "E101               3\n",
      "D                  3\n",
      "C22 C26            3\n",
      "B49                2\n",
      "B57 B59 B63 B66    2\n",
      "E44                2\n",
      "D17                2\n",
      "E121               2\n",
      "E25                2\n",
      "B18                2\n",
      "B51 B53 B55        2\n",
      "E24                2\n",
      "B77                2\n",
      "D36                2\n",
      "C52                2\n",
      "C2                 2\n",
      "B58 B60            2\n",
      "D35                2\n",
      "C78                2\n",
      "B20                2\n",
      "C92                2\n",
      "C68                2\n",
      "C93                2\n",
      "B35                2\n",
      "C123               2\n",
      "                  ..\n",
      "C110               1\n",
      "D45                1\n",
      "C90                1\n",
      "C62 C64            1\n",
      "C49                1\n",
      "A34                1\n",
      "C85                1\n",
      "C103               1\n",
      "C87                1\n",
      "D6                 1\n",
      "B19                1\n",
      "B37                1\n",
      "D7                 1\n",
      "B101               1\n",
      "B73                1\n",
      "C50                1\n",
      "D50                1\n",
      "C148               1\n",
      "A6                 1\n",
      "C111               1\n",
      "B71                1\n",
      "D56                1\n",
      "C99                1\n",
      "E77                1\n",
      "D9                 1\n",
      "E34                1\n",
      "E46                1\n",
      "D30                1\n",
      "B80                1\n",
      "D48                1\n",
      "Name: Cabin, Length: 147, dtype: int64 \n",
      "-----------------------------TEST DATA\n",
      " B57 B59 B63 B66    3\n",
      "C31                2\n",
      "C78                2\n",
      "A34                2\n",
      "B45                2\n",
      "C6                 2\n",
      "C116               2\n",
      "C55 C57            2\n",
      "C80                2\n",
      "E34                2\n",
      "C101               2\n",
      "C23 C25 C27        2\n",
      "C89                2\n",
      "F4                 2\n",
      "B11                1\n",
      "B61                1\n",
      "E31                1\n",
      "C28                1\n",
      "E39 E41            1\n",
      "B26                1\n",
      "D19                1\n",
      "B51 B53 B55        1\n",
      "B58 B60            1\n",
      "C106               1\n",
      "C54                1\n",
      "F2                 1\n",
      "E46                1\n",
      "D38                1\n",
      "C85                1\n",
      "A18                1\n",
      "                  ..\n",
      "A29                1\n",
      "E52                1\n",
      "B78                1\n",
      "D22                1\n",
      "B41                1\n",
      "B71                1\n",
      "C130               1\n",
      "F                  1\n",
      "D40                1\n",
      "B36                1\n",
      "C46                1\n",
      "D21                1\n",
      "D10 D12            1\n",
      "C51                1\n",
      "F33                1\n",
      "C86                1\n",
      "G6                 1\n",
      "C132               1\n",
      "D15                1\n",
      "C32                1\n",
      "A9                 1\n",
      "E50                1\n",
      "C22 C26            1\n",
      "B52 B54 B56        1\n",
      "A21                1\n",
      "C39                1\n",
      "C62 C64            1\n",
      "D37                1\n",
      "C7                 1\n",
      "A11                1\n",
      "Name: Cabin, Length: 76, dtype: int64 \n",
      "=============================\n",
      "TRAIN DATA\n",
      " S    644\n",
      "C    168\n",
      "Q     77\n",
      "Name: Embarked, dtype: int64 \n",
      "-----------------------------TEST DATA\n",
      " S    270\n",
      "C    102\n",
      "Q     46\n",
      "Name: Embarked, dtype: int64 \n",
      "=============================\n"
     ]
    }
   ],
   "source": [
    "for col in train_data.columns:\n",
    "    print(\n",
    "        'TRAIN DATA\\n',\n",
    "        train_data[col].value_counts(),\n",
    "        '\\n-----------------------------'\n",
    "        'TEST DATA\\n',\n",
    "        test_data[col].value_counts(),\n",
    "        '\\n============================='\n",
    "    )"
   ]
  },
  {
   "cell_type": "code",
   "execution_count": 9,
   "metadata": {},
   "outputs": [
    {
     "name": "stdout",
     "output_type": "stream",
     "text": [
      "OMITTED VALUES in TRAIN DATA\n",
      "========================\n",
      "TRAIN DATA\n",
      " False    714\n",
      "True     177\n",
      "Name: Age, dtype: int64 \n",
      "-----------------------------\n",
      "TRAIN DATA\n",
      " True     687\n",
      "False    204\n",
      "Name: Cabin, dtype: int64 \n",
      "-----------------------------\n",
      "TRAIN DATA\n",
      " False    889\n",
      "True       2\n",
      "Name: Embarked, dtype: int64 \n",
      "-----------------------------\n",
      "Ommitted Value-Columns:\n",
      " ['Age', 'Cabin', 'Embarked'] \n",
      "All Columns:\n",
      " Index(['Pclass', 'Sex', 'Age', 'SibSp', 'Parch', 'Fare', 'Cabin', 'Embarked'], dtype='object')\n"
     ]
    }
   ],
   "source": [
    "OC=[]\n",
    "print(\"OMITTED VALUES in TRAIN DATA\\n========================\")\n",
    "for col in train_data.columns:\n",
    "    if train_data[col].isna().value_counts().shape==(2,):\n",
    "        OC.append(col)\n",
    "        print(\n",
    "            'TRAIN DATA\\n',\n",
    "            train_data[col].isna().value_counts(),\n",
    "            '\\n-----------------------------'\n",
    "            \n",
    "    )\n",
    "    \n",
    "print('Ommitted Value-Columns:\\n',\n",
    "     OC,\n",
    "     '\\nAll Columns:\\n',\n",
    "     train_data.columns)"
   ]
  },
  {
   "cell_type": "code",
   "execution_count": 10,
   "metadata": {},
   "outputs": [
    {
     "name": "stdout",
     "output_type": "stream",
     "text": [
      "OMITTED VALUES in TEST DATA\n",
      "========================\n",
      "TEST DATA\n",
      " False    332\n",
      "True      86\n",
      "Name: Age, dtype: int64 \n",
      "------------------------\n",
      "TEST DATA\n",
      " False    417\n",
      "True       1\n",
      "Name: Fare, dtype: int64 \n",
      "------------------------\n",
      "TEST DATA\n",
      " True     327\n",
      "False     91\n",
      "Name: Cabin, dtype: int64 \n",
      "------------------------\n",
      "Ommitted Value-Columns:\n",
      " ['Age', 'Fare', 'Cabin'] \n",
      "All Columns:\n",
      " Index(['Pclass', 'Sex', 'Age', 'SibSp', 'Parch', 'Fare', 'Cabin', 'Embarked'], dtype='object')\n"
     ]
    }
   ],
   "source": [
    "OC=[]\n",
    "print(\"OMITTED VALUES in TEST DATA\\n========================\")\n",
    "for col in test_data.columns:\n",
    "    if test_data[col].isna().value_counts().shape==(2,):\n",
    "        OC.append(col)\n",
    "        print(\n",
    "            'TEST DATA\\n',\n",
    "            test_data[col].isna().value_counts(),\n",
    "            '\\n------------------------'\n",
    "    )\n",
    "    \n",
    "print('Ommitted Value-Columns:\\n',\n",
    "     OC,\n",
    "     '\\nAll Columns:\\n',\n",
    "     test_data.columns)"
   ]
  },
  {
   "cell_type": "code",
   "execution_count": 11,
   "metadata": {},
   "outputs": [],
   "source": [
    "train_data.Age=train_data.Age.fillna(method='ffill')\n",
    "train_data.Cabin=train_data.Cabin.fillna('B45')\n",
    "train_data.Embarked=train_data.Embarked.fillna(method='ffill')\n",
    "\n",
    "test_data.Age=test_data.Age.fillna(method='ffill')\n",
    "test_data.Fare=test_data.Fare.fillna(method='ffill')\n",
    "test_data.Cabin=test_data.Cabin.fillna('B45')"
   ]
  },
  {
   "cell_type": "code",
   "execution_count": 12,
   "metadata": {},
   "outputs": [
    {
     "name": "stdout",
     "output_type": "stream",
     "text": [
      "OMITTED VALUES in TRAIN DATA\n",
      "========================\n",
      "Ommitted Value-Columns:\n",
      " [] \n",
      "All Columns:\n",
      " Index(['Pclass', 'Sex', 'Age', 'SibSp', 'Parch', 'Fare', 'Cabin', 'Embarked'], dtype='object')\n"
     ]
    }
   ],
   "source": [
    "OC=[]\n",
    "print(\"OMITTED VALUES in TRAIN DATA\\n========================\")\n",
    "for col in train_data.columns:\n",
    "    if train_data[col].isna().value_counts().shape==(2,):\n",
    "        OC.append(col)\n",
    "        print(\n",
    "            'TRAIN DATA\\n',\n",
    "            train_data[col].isna().value_counts(),\n",
    "            '\\n-----------------------------'\n",
    "            \n",
    "    )\n",
    "    \n",
    "print('Ommitted Value-Columns:\\n',\n",
    "     OC,\n",
    "     '\\nAll Columns:\\n',\n",
    "     train_data.columns)"
   ]
  },
  {
   "cell_type": "code",
   "execution_count": 13,
   "metadata": {},
   "outputs": [
    {
     "name": "stdout",
     "output_type": "stream",
     "text": [
      "OMITTED VALUES in TEST DATA\n",
      "========================\n",
      "Ommitted Value-Columns:\n",
      " [] \n",
      "All Columns:\n",
      " Index(['Pclass', 'Sex', 'Age', 'SibSp', 'Parch', 'Fare', 'Cabin', 'Embarked'], dtype='object')\n"
     ]
    }
   ],
   "source": [
    "OC=[]\n",
    "print(\"OMITTED VALUES in TEST DATA\\n========================\")\n",
    "for col in test_data.columns:\n",
    "    if test_data[col].isna().value_counts().shape==(2,):\n",
    "        OC.append(col)\n",
    "        print(\n",
    "            'TEST DATA\\n',\n",
    "            test_data[col].isna().value_counts(),\n",
    "            '\\n------------------------'\n",
    "    )\n",
    "    \n",
    "print('Ommitted Value-Columns:\\n',\n",
    "     OC,\n",
    "     '\\nAll Columns:\\n',\n",
    "     test_data.columns)"
   ]
  },
  {
   "cell_type": "code",
   "execution_count": 14,
   "metadata": {},
   "outputs": [
    {
     "data": {
      "text/plain": [
       "0    549\n",
       "1    342\n",
       "Name: Survived, dtype: int64"
      ]
     },
     "execution_count": 14,
     "metadata": {},
     "output_type": "execute_result"
    }
   ],
   "source": [
    "train_target.value_counts()"
   ]
  },
  {
   "cell_type": "code",
   "execution_count": 15,
   "metadata": {},
   "outputs": [
    {
     "data": {
      "text/plain": [
       "0    266\n",
       "1    152\n",
       "Name: Survived, dtype: int64"
      ]
     },
     "execution_count": 15,
     "metadata": {},
     "output_type": "execute_result"
    }
   ],
   "source": [
    "test_target.value_counts()"
   ]
  },
  {
   "cell_type": "code",
   "execution_count": 16,
   "metadata": {},
   "outputs": [
    {
     "data": {
      "text/html": [
       "<div>\n",
       "<style scoped>\n",
       "    .dataframe tbody tr th:only-of-type {\n",
       "        vertical-align: middle;\n",
       "    }\n",
       "\n",
       "    .dataframe tbody tr th {\n",
       "        vertical-align: top;\n",
       "    }\n",
       "\n",
       "    .dataframe thead th {\n",
       "        text-align: right;\n",
       "    }\n",
       "</style>\n",
       "<table border=\"1\" class=\"dataframe\">\n",
       "  <thead>\n",
       "    <tr style=\"text-align: right;\">\n",
       "      <th></th>\n",
       "      <th>Pclass</th>\n",
       "      <th>Sex</th>\n",
       "      <th>Age</th>\n",
       "      <th>SibSp</th>\n",
       "      <th>Parch</th>\n",
       "      <th>Fare</th>\n",
       "      <th>Cabin</th>\n",
       "      <th>Embarked</th>\n",
       "    </tr>\n",
       "  </thead>\n",
       "  <tbody>\n",
       "    <tr>\n",
       "      <th>0</th>\n",
       "      <td>3</td>\n",
       "      <td>male</td>\n",
       "      <td>22.0</td>\n",
       "      <td>1</td>\n",
       "      <td>0</td>\n",
       "      <td>7.2500</td>\n",
       "      <td>B45</td>\n",
       "      <td>S</td>\n",
       "    </tr>\n",
       "    <tr>\n",
       "      <th>1</th>\n",
       "      <td>1</td>\n",
       "      <td>female</td>\n",
       "      <td>38.0</td>\n",
       "      <td>1</td>\n",
       "      <td>0</td>\n",
       "      <td>71.2833</td>\n",
       "      <td>C85</td>\n",
       "      <td>C</td>\n",
       "    </tr>\n",
       "    <tr>\n",
       "      <th>2</th>\n",
       "      <td>3</td>\n",
       "      <td>female</td>\n",
       "      <td>26.0</td>\n",
       "      <td>0</td>\n",
       "      <td>0</td>\n",
       "      <td>7.9250</td>\n",
       "      <td>B45</td>\n",
       "      <td>S</td>\n",
       "    </tr>\n",
       "    <tr>\n",
       "      <th>3</th>\n",
       "      <td>1</td>\n",
       "      <td>female</td>\n",
       "      <td>35.0</td>\n",
       "      <td>1</td>\n",
       "      <td>0</td>\n",
       "      <td>53.1000</td>\n",
       "      <td>C123</td>\n",
       "      <td>S</td>\n",
       "    </tr>\n",
       "    <tr>\n",
       "      <th>4</th>\n",
       "      <td>3</td>\n",
       "      <td>male</td>\n",
       "      <td>35.0</td>\n",
       "      <td>0</td>\n",
       "      <td>0</td>\n",
       "      <td>8.0500</td>\n",
       "      <td>B45</td>\n",
       "      <td>S</td>\n",
       "    </tr>\n",
       "  </tbody>\n",
       "</table>\n",
       "</div>"
      ],
      "text/plain": [
       "   Pclass     Sex   Age  SibSp  Parch     Fare Cabin Embarked\n",
       "0       3    male  22.0      1      0   7.2500   B45        S\n",
       "1       1  female  38.0      1      0  71.2833   C85        C\n",
       "2       3  female  26.0      0      0   7.9250   B45        S\n",
       "3       1  female  35.0      1      0  53.1000  C123        S\n",
       "4       3    male  35.0      0      0   8.0500   B45        S"
      ]
     },
     "execution_count": 16,
     "metadata": {},
     "output_type": "execute_result"
    }
   ],
   "source": [
    "train_data.head()"
   ]
  },
  {
   "cell_type": "code",
   "execution_count": 17,
   "metadata": {},
   "outputs": [
    {
     "data": {
      "text/html": [
       "<div>\n",
       "<style scoped>\n",
       "    .dataframe tbody tr th:only-of-type {\n",
       "        vertical-align: middle;\n",
       "    }\n",
       "\n",
       "    .dataframe tbody tr th {\n",
       "        vertical-align: top;\n",
       "    }\n",
       "\n",
       "    .dataframe thead th {\n",
       "        text-align: right;\n",
       "    }\n",
       "</style>\n",
       "<table border=\"1\" class=\"dataframe\">\n",
       "  <thead>\n",
       "    <tr style=\"text-align: right;\">\n",
       "      <th></th>\n",
       "      <th>Pclass</th>\n",
       "      <th>Sex</th>\n",
       "      <th>Age</th>\n",
       "      <th>SibSp</th>\n",
       "      <th>Parch</th>\n",
       "      <th>Fare</th>\n",
       "      <th>Cabin</th>\n",
       "      <th>Embarked</th>\n",
       "    </tr>\n",
       "  </thead>\n",
       "  <tbody>\n",
       "    <tr>\n",
       "      <th>0</th>\n",
       "      <td>3</td>\n",
       "      <td>male</td>\n",
       "      <td>34.5</td>\n",
       "      <td>0</td>\n",
       "      <td>0</td>\n",
       "      <td>7.8292</td>\n",
       "      <td>B45</td>\n",
       "      <td>Q</td>\n",
       "    </tr>\n",
       "    <tr>\n",
       "      <th>1</th>\n",
       "      <td>3</td>\n",
       "      <td>female</td>\n",
       "      <td>47.0</td>\n",
       "      <td>1</td>\n",
       "      <td>0</td>\n",
       "      <td>7.0000</td>\n",
       "      <td>B45</td>\n",
       "      <td>S</td>\n",
       "    </tr>\n",
       "    <tr>\n",
       "      <th>2</th>\n",
       "      <td>2</td>\n",
       "      <td>male</td>\n",
       "      <td>62.0</td>\n",
       "      <td>0</td>\n",
       "      <td>0</td>\n",
       "      <td>9.6875</td>\n",
       "      <td>B45</td>\n",
       "      <td>Q</td>\n",
       "    </tr>\n",
       "    <tr>\n",
       "      <th>3</th>\n",
       "      <td>3</td>\n",
       "      <td>male</td>\n",
       "      <td>27.0</td>\n",
       "      <td>0</td>\n",
       "      <td>0</td>\n",
       "      <td>8.6625</td>\n",
       "      <td>B45</td>\n",
       "      <td>S</td>\n",
       "    </tr>\n",
       "    <tr>\n",
       "      <th>4</th>\n",
       "      <td>3</td>\n",
       "      <td>female</td>\n",
       "      <td>22.0</td>\n",
       "      <td>1</td>\n",
       "      <td>1</td>\n",
       "      <td>12.2875</td>\n",
       "      <td>B45</td>\n",
       "      <td>S</td>\n",
       "    </tr>\n",
       "  </tbody>\n",
       "</table>\n",
       "</div>"
      ],
      "text/plain": [
       "   Pclass     Sex   Age  SibSp  Parch     Fare Cabin Embarked\n",
       "0       3    male  34.5      0      0   7.8292   B45        Q\n",
       "1       3  female  47.0      1      0   7.0000   B45        S\n",
       "2       2    male  62.0      0      0   9.6875   B45        Q\n",
       "3       3    male  27.0      0      0   8.6625   B45        S\n",
       "4       3  female  22.0      1      1  12.2875   B45        S"
      ]
     },
     "execution_count": 17,
     "metadata": {},
     "output_type": "execute_result"
    }
   ],
   "source": [
    "test_data.head()"
   ]
  },
  {
   "cell_type": "code",
   "execution_count": 18,
   "metadata": {},
   "outputs": [],
   "source": [
    "categorical=['Pclass','Sex','SibSp','Parch','Cabin','Embarked']"
   ]
  },
  {
   "cell_type": "code",
   "execution_count": 19,
   "metadata": {},
   "outputs": [
    {
     "name": "stdout",
     "output_type": "stream",
     "text": [
      "<class 'pandas.core.frame.DataFrame'>\n",
      "RangeIndex: 891 entries, 0 to 890\n",
      "Data columns (total 8 columns):\n",
      "Pclass      891 non-null int64\n",
      "Sex         891 non-null object\n",
      "Age         891 non-null float64\n",
      "SibSp       891 non-null int64\n",
      "Parch       891 non-null int64\n",
      "Fare        891 non-null float64\n",
      "Cabin       891 non-null object\n",
      "Embarked    891 non-null object\n",
      "dtypes: float64(2), int64(3), object(3)\n",
      "memory usage: 55.8+ KB\n",
      "<class 'pandas.core.frame.DataFrame'>\n",
      "RangeIndex: 418 entries, 0 to 417\n",
      "Data columns (total 8 columns):\n",
      "Pclass      418 non-null int64\n",
      "Sex         418 non-null object\n",
      "Age         418 non-null float64\n",
      "SibSp       418 non-null int64\n",
      "Parch       418 non-null int64\n",
      "Fare        418 non-null float64\n",
      "Cabin       418 non-null object\n",
      "Embarked    418 non-null object\n",
      "dtypes: float64(2), int64(3), object(3)\n",
      "memory usage: 26.2+ KB\n",
      "None None\n"
     ]
    }
   ],
   "source": [
    "print(train_data.info(),\n",
    "      test_data.info()\n",
    "     )"
   ]
  },
  {
   "cell_type": "code",
   "execution_count": 20,
   "metadata": {},
   "outputs": [],
   "source": [
    "for col in categorical:\n",
    "    train_data[col]=train_data[col].astype(str)\n",
    "    test_data[col]=test_data[col].astype(str)"
   ]
  },
  {
   "cell_type": "code",
   "execution_count": 21,
   "metadata": {},
   "outputs": [
    {
     "name": "stdout",
     "output_type": "stream",
     "text": [
      "<class 'pandas.core.frame.DataFrame'>\n",
      "RangeIndex: 891 entries, 0 to 890\n",
      "Data columns (total 8 columns):\n",
      "Pclass      891 non-null object\n",
      "Sex         891 non-null object\n",
      "Age         891 non-null float64\n",
      "SibSp       891 non-null object\n",
      "Parch       891 non-null object\n",
      "Fare        891 non-null float64\n",
      "Cabin       891 non-null object\n",
      "Embarked    891 non-null object\n",
      "dtypes: float64(2), object(6)\n",
      "memory usage: 55.8+ KB\n",
      "<class 'pandas.core.frame.DataFrame'>\n",
      "RangeIndex: 418 entries, 0 to 417\n",
      "Data columns (total 8 columns):\n",
      "Pclass      418 non-null object\n",
      "Sex         418 non-null object\n",
      "Age         418 non-null float64\n",
      "SibSp       418 non-null object\n",
      "Parch       418 non-null object\n",
      "Fare        418 non-null float64\n",
      "Cabin       418 non-null object\n",
      "Embarked    418 non-null object\n",
      "dtypes: float64(2), object(6)\n",
      "memory usage: 26.2+ KB\n",
      "None None\n"
     ]
    }
   ],
   "source": [
    "print(train_data.info(),\n",
    "      test_data.info()\n",
    "     )"
   ]
  },
  {
   "cell_type": "code",
   "execution_count": 22,
   "metadata": {},
   "outputs": [],
   "source": [
    "data=pd.concat([train_data,test_data])"
   ]
  },
  {
   "cell_type": "code",
   "execution_count": 23,
   "metadata": {},
   "outputs": [
    {
     "data": {
      "text/html": [
       "<div>\n",
       "<style scoped>\n",
       "    .dataframe tbody tr th:only-of-type {\n",
       "        vertical-align: middle;\n",
       "    }\n",
       "\n",
       "    .dataframe tbody tr th {\n",
       "        vertical-align: top;\n",
       "    }\n",
       "\n",
       "    .dataframe thead th {\n",
       "        text-align: right;\n",
       "    }\n",
       "</style>\n",
       "<table border=\"1\" class=\"dataframe\">\n",
       "  <thead>\n",
       "    <tr style=\"text-align: right;\">\n",
       "      <th></th>\n",
       "      <th>Pclass</th>\n",
       "      <th>Sex</th>\n",
       "      <th>Age</th>\n",
       "      <th>SibSp</th>\n",
       "      <th>Parch</th>\n",
       "      <th>Fare</th>\n",
       "      <th>Cabin</th>\n",
       "      <th>Embarked</th>\n",
       "    </tr>\n",
       "  </thead>\n",
       "  <tbody>\n",
       "    <tr>\n",
       "      <th>0</th>\n",
       "      <td>3</td>\n",
       "      <td>male</td>\n",
       "      <td>22.0</td>\n",
       "      <td>1</td>\n",
       "      <td>0</td>\n",
       "      <td>7.2500</td>\n",
       "      <td>B45</td>\n",
       "      <td>S</td>\n",
       "    </tr>\n",
       "    <tr>\n",
       "      <th>1</th>\n",
       "      <td>1</td>\n",
       "      <td>female</td>\n",
       "      <td>38.0</td>\n",
       "      <td>1</td>\n",
       "      <td>0</td>\n",
       "      <td>71.2833</td>\n",
       "      <td>C85</td>\n",
       "      <td>C</td>\n",
       "    </tr>\n",
       "    <tr>\n",
       "      <th>2</th>\n",
       "      <td>3</td>\n",
       "      <td>female</td>\n",
       "      <td>26.0</td>\n",
       "      <td>0</td>\n",
       "      <td>0</td>\n",
       "      <td>7.9250</td>\n",
       "      <td>B45</td>\n",
       "      <td>S</td>\n",
       "    </tr>\n",
       "    <tr>\n",
       "      <th>3</th>\n",
       "      <td>1</td>\n",
       "      <td>female</td>\n",
       "      <td>35.0</td>\n",
       "      <td>1</td>\n",
       "      <td>0</td>\n",
       "      <td>53.1000</td>\n",
       "      <td>C123</td>\n",
       "      <td>S</td>\n",
       "    </tr>\n",
       "    <tr>\n",
       "      <th>4</th>\n",
       "      <td>3</td>\n",
       "      <td>male</td>\n",
       "      <td>35.0</td>\n",
       "      <td>0</td>\n",
       "      <td>0</td>\n",
       "      <td>8.0500</td>\n",
       "      <td>B45</td>\n",
       "      <td>S</td>\n",
       "    </tr>\n",
       "  </tbody>\n",
       "</table>\n",
       "</div>"
      ],
      "text/plain": [
       "  Pclass     Sex   Age SibSp Parch     Fare Cabin Embarked\n",
       "0      3    male  22.0     1     0   7.2500   B45        S\n",
       "1      1  female  38.0     1     0  71.2833   C85        C\n",
       "2      3  female  26.0     0     0   7.9250   B45        S\n",
       "3      1  female  35.0     1     0  53.1000  C123        S\n",
       "4      3    male  35.0     0     0   8.0500   B45        S"
      ]
     },
     "execution_count": 23,
     "metadata": {},
     "output_type": "execute_result"
    }
   ],
   "source": [
    "data.head()"
   ]
  },
  {
   "cell_type": "code",
   "execution_count": 24,
   "metadata": {},
   "outputs": [
    {
     "data": {
      "text/plain": [
       "(1309, 8)"
      ]
     },
     "execution_count": 24,
     "metadata": {},
     "output_type": "execute_result"
    }
   ],
   "source": [
    "data.shape"
   ]
  },
  {
   "cell_type": "code",
   "execution_count": 25,
   "metadata": {},
   "outputs": [
    {
     "name": "stdout",
     "output_type": "stream",
     "text": [
      "<class 'pandas.core.frame.DataFrame'>\n",
      "Int64Index: 1309 entries, 0 to 417\n",
      "Data columns (total 8 columns):\n",
      "Pclass      1309 non-null object\n",
      "Sex         1309 non-null object\n",
      "Age         1309 non-null float64\n",
      "SibSp       1309 non-null object\n",
      "Parch       1309 non-null object\n",
      "Fare        1309 non-null float64\n",
      "Cabin       1309 non-null object\n",
      "Embarked    1309 non-null object\n",
      "dtypes: float64(2), object(6)\n",
      "memory usage: 92.0+ KB\n"
     ]
    }
   ],
   "source": [
    "data.info()"
   ]
  },
  {
   "cell_type": "code",
   "execution_count": 26,
   "metadata": {},
   "outputs": [
    {
     "data": {
      "text/plain": [
       "(1309,)"
      ]
     },
     "execution_count": 26,
     "metadata": {},
     "output_type": "execute_result"
    }
   ],
   "source": [
    "target=pd.concat([train_target,test_target])\n",
    "target.values.shape"
   ]
  },
  {
   "cell_type": "markdown",
   "metadata": {},
   "source": [
    "## VISUALISATION"
   ]
  },
  {
   "cell_type": "code",
   "execution_count": 27,
   "metadata": {},
   "outputs": [],
   "source": [
    "survived=[]\n",
    "dead=[]\n",
    "for i in range(1309):\n",
    "    if target.values[i]==1:\n",
    "        survived.append(data.iloc[i].values)\n",
    "    else:\n",
    "        dead.append(data.iloc[i].values)"
   ]
  },
  {
   "cell_type": "code",
   "execution_count": 28,
   "metadata": {},
   "outputs": [],
   "source": [
    "surviveddf=pd.DataFrame(survived, columns=data.columns)"
   ]
  },
  {
   "cell_type": "code",
   "execution_count": 29,
   "metadata": {},
   "outputs": [],
   "source": [
    "deaddf=pd.DataFrame(dead, columns=data.columns)"
   ]
  },
  {
   "cell_type": "code",
   "execution_count": 30,
   "metadata": {},
   "outputs": [
    {
     "data": {
      "text/html": [
       "<div>\n",
       "<style scoped>\n",
       "    .dataframe tbody tr th:only-of-type {\n",
       "        vertical-align: middle;\n",
       "    }\n",
       "\n",
       "    .dataframe tbody tr th {\n",
       "        vertical-align: top;\n",
       "    }\n",
       "\n",
       "    .dataframe thead th {\n",
       "        text-align: right;\n",
       "    }\n",
       "</style>\n",
       "<table border=\"1\" class=\"dataframe\">\n",
       "  <thead>\n",
       "    <tr style=\"text-align: right;\">\n",
       "      <th></th>\n",
       "      <th>Pclass</th>\n",
       "      <th>Sex</th>\n",
       "      <th>Age</th>\n",
       "      <th>SibSp</th>\n",
       "      <th>Parch</th>\n",
       "      <th>Fare</th>\n",
       "      <th>Cabin</th>\n",
       "      <th>Embarked</th>\n",
       "    </tr>\n",
       "  </thead>\n",
       "  <tbody>\n",
       "    <tr>\n",
       "      <th>0</th>\n",
       "      <td>1</td>\n",
       "      <td>female</td>\n",
       "      <td>38.0</td>\n",
       "      <td>1</td>\n",
       "      <td>0</td>\n",
       "      <td>71.2833</td>\n",
       "      <td>C85</td>\n",
       "      <td>C</td>\n",
       "    </tr>\n",
       "    <tr>\n",
       "      <th>1</th>\n",
       "      <td>3</td>\n",
       "      <td>female</td>\n",
       "      <td>26.0</td>\n",
       "      <td>0</td>\n",
       "      <td>0</td>\n",
       "      <td>7.9250</td>\n",
       "      <td>B45</td>\n",
       "      <td>S</td>\n",
       "    </tr>\n",
       "    <tr>\n",
       "      <th>2</th>\n",
       "      <td>1</td>\n",
       "      <td>female</td>\n",
       "      <td>35.0</td>\n",
       "      <td>1</td>\n",
       "      <td>0</td>\n",
       "      <td>53.1000</td>\n",
       "      <td>C123</td>\n",
       "      <td>S</td>\n",
       "    </tr>\n",
       "    <tr>\n",
       "      <th>3</th>\n",
       "      <td>3</td>\n",
       "      <td>female</td>\n",
       "      <td>27.0</td>\n",
       "      <td>0</td>\n",
       "      <td>2</td>\n",
       "      <td>11.1333</td>\n",
       "      <td>B45</td>\n",
       "      <td>S</td>\n",
       "    </tr>\n",
       "    <tr>\n",
       "      <th>4</th>\n",
       "      <td>2</td>\n",
       "      <td>female</td>\n",
       "      <td>14.0</td>\n",
       "      <td>1</td>\n",
       "      <td>0</td>\n",
       "      <td>30.0708</td>\n",
       "      <td>B45</td>\n",
       "      <td>C</td>\n",
       "    </tr>\n",
       "  </tbody>\n",
       "</table>\n",
       "</div>"
      ],
      "text/plain": [
       "  Pclass     Sex   Age SibSp Parch     Fare Cabin Embarked\n",
       "0      1  female  38.0     1     0  71.2833   C85        C\n",
       "1      3  female  26.0     0     0   7.9250   B45        S\n",
       "2      1  female  35.0     1     0  53.1000  C123        S\n",
       "3      3  female  27.0     0     2  11.1333   B45        S\n",
       "4      2  female  14.0     1     0  30.0708   B45        C"
      ]
     },
     "execution_count": 30,
     "metadata": {},
     "output_type": "execute_result"
    }
   ],
   "source": [
    "surviveddf.head()"
   ]
  },
  {
   "cell_type": "code",
   "execution_count": 31,
   "metadata": {},
   "outputs": [
    {
     "data": {
      "text/plain": [
       "female    385\n",
       "male      109\n",
       "Name: Sex, dtype: int64"
      ]
     },
     "execution_count": 31,
     "metadata": {},
     "output_type": "execute_result"
    }
   ],
   "source": [
    "surviveddf.Sex.value_counts()"
   ]
  },
  {
   "cell_type": "code",
   "execution_count": 32,
   "metadata": {},
   "outputs": [],
   "source": [
    "def vis(var):\n",
    "    plt.figure(figsize=(16,5))\n",
    "    plt.bar(surviveddf[var].value_counts().keys(), surviveddf[var].value_counts().values, alpha=0.5)\n",
    "    plt.bar(deaddf[var].value_counts().keys(), deaddf[var].value_counts().values, alpha=0.5)\n",
    "    plt.title(var)\n",
    "    plt.xlabel(var)\n",
    "    plt.ylabel(\"Person Count\")\n",
    "    plt.show()\n",
    "    plt.figure(figsize=(2,2))\n",
    "    plt.title(\"Survived\")\n",
    "    plt.pie(surviveddf[var].value_counts().values,labels=surviveddf[var].value_counts().keys())\n",
    "    plt.show()\n",
    "    plt.figure(figsize=(2,2))\n",
    "    plt.title(\"Dead\")\n",
    "    plt.pie(deaddf[var].value_counts().values,labels=deaddf[var].value_counts().keys())\n",
    "    plt.show()"
   ]
  },
  {
   "cell_type": "code",
   "execution_count": 33,
   "metadata": {},
   "outputs": [
    {
     "data": {
      "text/plain": [
       "Index(['Pclass', 'Sex', 'Age', 'SibSp', 'Parch', 'Fare', 'Cabin', 'Embarked'], dtype='object')"
      ]
     },
     "execution_count": 33,
     "metadata": {},
     "output_type": "execute_result"
    }
   ],
   "source": [
    "data.columns"
   ]
  },
  {
   "cell_type": "code",
   "execution_count": 34,
   "metadata": {
    "scrolled": false
   },
   "outputs": [
    {
     "name": "stdout",
     "output_type": "stream",
     "text": [
      "Pclass Vs Person Count Vs Survival\n"
     ]
    },
    {
     "data": {
      "image/png": "[encoded data removed]",
      "text/plain": [
       "<Figure size 1152x360 with 1 Axes>"
      ]
     },
     "metadata": {
      "needs_background": "light"
     },
     "output_type": "display_data"
    },
    {
     "data": {
      "image/png": "[encoded data removed]",
      "text/plain": [
       "<Figure size 144x144 with 1 Axes>"
      ]
     },
     "metadata": {},
     "output_type": "display_data"
    },
    {
     "data": {
      "image/png": "[encoded data removed]",
      "text/plain": [
       "<Figure size 144x144 with 1 Axes>"
      ]
     },
     "metadata": {},
     "output_type": "display_data"
    },
    {
     "name": "stdout",
     "output_type": "stream",
     "text": [
      "Sex Vs Person Count Vs Survival\n"
     ]
    },
    {
     "data": {
      "image/png": "[encoded data removed]",
      "text/plain": [
       "<Figure size 1152x360 with 1 Axes>"
      ]
     },
     "metadata": {
      "needs_background": "light"
     },
     "output_type": "display_data"
    },
    {
     "data": {
      "image/png": "[encoded data removed]",
      "text/plain": [
       "<Figure size 144x144 with 1 Axes>"
      ]
     },
     "metadata": {},
     "output_type": "display_data"
    },
    {
     "data": {
      "image/png": "[encoded data removed]",
      "text/plain": [
       "<Figure size 144x144 with 1 Axes>"
      ]
     },
     "metadata": {},
     "output_type": "display_data"
    },
    {
     "name": "stdout",
     "output_type": "stream",
     "text": [
      "Age Vs Person Count Vs Survival\n"
     ]
    },
    {
     "data": {
      "image/png": "[encoded data removed]",
      "text/plain": [
       "<Figure size 1152x360 with 1 Axes>"
      ]
     },
     "metadata": {
      "needs_background": "light"
     },
     "output_type": "display_data"
    },
    {
     "data": {
      "image/png": "[encoded data removed]",
      "text/plain": [
       "<Figure size 144x144 with 1 Axes>"
      ]
     },
     "metadata": {},
     "output_type": "display_data"
    },
    {
     "data": {
      "image/png": "[encoded data removed]",
      "text/plain": [
       "<Figure size 144x144 with 1 Axes>"
      ]
     },
     "metadata": {},
     "output_type": "display_data"
    },
    {
     "name": "stdout",
     "output_type": "stream",
     "text": [
      "SibSp Vs Person Count Vs Survival\n"
     ]
    },
    {
     "data": {
      "image/png": "[encoded data removed]",
      "text/plain": [
       "<Figure size 1152x360 with 1 Axes>"
      ]
     },
     "metadata": {
      "needs_background": "light"
     },
     "output_type": "display_data"
    },
    {
     "data": {
      "image/png": "[encoded data removed]",
      "text/plain": [
       "<Figure size 144x144 with 1 Axes>"
      ]
     },
     "metadata": {},
     "output_type": "display_data"
    },
    {
     "data": {
      "image/png": "[encoded data removed]",
      "text/plain": [
       "<Figure size 144x144 with 1 Axes>"
      ]
     },
     "metadata": {},
     "output_type": "display_data"
    },
    {
     "name": "stdout",
     "output_type": "stream",
     "text": [
      "Parch Vs Person Count Vs Survival\n"
     ]
    },
    {
     "data": {
      "image/png": "[encoded data removed]",
      "text/plain": [
       "<Figure size 1152x360 with 1 Axes>"
      ]
     },
     "metadata": {
      "needs_background": "light"
     },
     "output_type": "display_data"
    },
    {
     "data": {
      "image/png": "[encoded data removed]",
      "text/plain": [
       "<Figure size 144x144 with 1 Axes>"
      ]
     },
     "metadata": {},
     "output_type": "display_data"
    },
    {
     "data": {
      "image/png": "[encoded data removed]",
      "text/plain": [
       "<Figure size 144x144 with 1 Axes>"
      ]
     },
     "metadata": {},
     "output_type": "display_data"
    },
    {
     "name": "stdout",
     "output_type": "stream",
     "text": [
      "Fare Vs Person Count Vs Survival\n"
     ]
    },
    {
     "data": {
      "image/png": "[encoded data removed]",
      "text/plain": [
       "<Figure size 1152x360 with 1 Axes>"
      ]
     },
     "metadata": {
      "needs_background": "light"
     },
     "output_type": "display_data"
    },
    {
     "data": {
      "image/png": "[encoded data removed]",
      "text/plain": [
       "<Figure size 144x144 with 1 Axes>"
      ]
     },
     "metadata": {},
     "output_type": "display_data"
    },
    {
     "data": {
      "image/png": "[encoded data removed]",
      "text/plain": [
       "<Figure size 144x144 with 1 Axes>"
      ]
     },
     "metadata": {},
     "output_type": "display_data"
    },
    {
     "name": "stdout",
     "output_type": "stream",
     "text": [
      "Cabin Vs Person Count Vs Survival\n"
     ]
    },
    {
     "data": {
      "image/png": "[encoded data removed]",
      "text/plain": [
       "<Figure size 1152x360 with 1 Axes>"
      ]
     },
     "metadata": {
      "needs_background": "light"
     },
     "output_type": "display_data"
    },
    {
     "data": {
      "image/png": "[encoded data removed]",
      "text/plain": [
       "<Figure size 144x144 with 1 Axes>"
      ]
     },
     "metadata": {},
     "output_type": "display_data"
    },
    {
     "data": {
      "image/png": "[encoded data removed]",
      "text/plain": [
       "<Figure size 144x144 with 1 Axes>"
      ]
     },
     "metadata": {},
     "output_type": "display_data"
    },
    {
     "name": "stdout",
     "output_type": "stream",
     "text": [
      "Embarked Vs Person Count Vs Survival\n"
     ]
    },
    {
     "data": {
      "image/png": "[encoded data removed]",
      "text/plain": [
       "<Figure size 1152x360 with 1 Axes>"
      ]
     },
     "metadata": {
      "needs_background": "light"
     },
     "output_type": "display_data"
    },
    {
     "data": {
      "image/png": "[encoded data removed]",
      "text/plain": [
       "<Figure size 144x144 with 1 Axes>"
      ]
     },
     "metadata": {},
     "output_type": "display_data"
    },
    {
     "data": {
      "image/png": "[encoded data removed]",
      "text/plain": [
       "<Figure size 144x144 with 1 Axes>"
      ]
     },
     "metadata": {},
     "output_type": "display_data"
    }
   ],
   "source": [
    "for var in data.columns:\n",
    "    print(var, 'Vs Person Count Vs Survival')\n",
    "    vis(var)"
   ]
  },
  {
   "cell_type": "code",
   "execution_count": 35,
   "metadata": {},
   "outputs": [],
   "source": [
    "data_encoded=pd.get_dummies(data)"
   ]
  },
  {
   "cell_type": "code",
   "execution_count": 36,
   "metadata": {},
   "outputs": [
    {
     "name": "stdout",
     "output_type": "stream",
     "text": [
      "<class 'pandas.core.frame.DataFrame'>\n",
      "Int64Index: 1309 entries, 0 to 417\n",
      "Columns: 211 entries, Age to Embarked_S\n",
      "dtypes: float64(2), uint8(209)\n",
      "memory usage: 297.8 KB\n"
     ]
    }
   ],
   "source": [
    "data_encoded.info()"
   ]
  },
  {
   "cell_type": "code",
   "execution_count": 37,
   "metadata": {},
   "outputs": [
    {
     "data": {
      "text/plain": [
       "(1309, 211)"
      ]
     },
     "execution_count": 37,
     "metadata": {},
     "output_type": "execute_result"
    }
   ],
   "source": [
    "data_encoded.values.shape"
   ]
  },
  {
   "cell_type": "code",
   "execution_count": 38,
   "metadata": {},
   "outputs": [],
   "source": [
    "X=data_encoded.values\n",
    "y=target.values"
   ]
  },
  {
   "cell_type": "code",
   "execution_count": 39,
   "metadata": {},
   "outputs": [],
   "source": [
    "X_train,X_test, y_train, y_test = train_test_split(X,y, random_state=42, test_size=0.25)"
   ]
  },
  {
   "cell_type": "code",
   "execution_count": 40,
   "metadata": {},
   "outputs": [
    {
     "data": {
      "text/plain": [
       "((981, 211), (328, 211), (981,), (328,))"
      ]
     },
     "execution_count": 40,
     "metadata": {},
     "output_type": "execute_result"
    }
   ],
   "source": [
    "X_train.shape, X_test.shape, y_train.shape, y_test.shape"
   ]
  },
  {
   "cell_type": "code",
   "execution_count": 41,
   "metadata": {},
   "outputs": [
    {
     "data": {
      "text/plain": [
       "array([[29.    , 26.    ,  0.    , ...,  0.    ,  0.    ,  1.    ],\n",
       "       [43.    , 46.9   ,  0.    , ...,  0.    ,  0.    ,  1.    ],\n",
       "       [26.    , 78.85  ,  1.    , ...,  0.    ,  0.    ,  1.    ],\n",
       "       ...,\n",
       "       [17.    , 47.1   ,  1.    , ...,  0.    ,  0.    ,  1.    ],\n",
       "       [41.    , 14.1083,  0.    , ...,  0.    ,  0.    ,  1.    ],\n",
       "       [20.    ,  7.8542,  0.    , ...,  0.    ,  0.    ,  1.    ]])"
      ]
     },
     "execution_count": 41,
     "metadata": {},
     "output_type": "execute_result"
    }
   ],
   "source": [
    "X_train"
   ]
  },
  {
   "cell_type": "markdown",
   "metadata": {},
   "source": [
    "### EVALUATION FUNCTION"
   ]
  },
  {
   "cell_type": "code",
   "execution_count": 42,
   "metadata": {},
   "outputs": [],
   "source": [
    "def classreport(model,xtest):\n",
    "    print(\"MODEL RESULT\\n============\")\n",
    "    predictions=model.predict(xtest)\n",
    "    confusion = confusion_matrix(y_test, predictions)\n",
    "    print('Confusion Matrix:\\n',confusion)\n",
    "    print('\\nClassification Report:\\n',classification_report(y_test, predictions,\n",
    "                            target_names=[\"1\", \"0\"]))\n",
    "    plt.imshow(confusion)\n",
    "    plt.xticks([0,1])\n",
    "    plt.xlabel(\"Predicted Class\")\n",
    "    plt.yticks([0,1])\n",
    "    plt.ylabel(\"True Class\")\n",
    "    plt.colorbar()\n",
    "    plt.show()"
   ]
  },
  {
   "cell_type": "markdown",
   "metadata": {},
   "source": [
    "## MODEL SELECTION"
   ]
  },
  {
   "cell_type": "markdown",
   "metadata": {},
   "source": [
    "### 1. SVC"
   ]
  },
  {
   "cell_type": "code",
   "execution_count": 43,
   "metadata": {},
   "outputs": [],
   "source": [
    "param_grid={\n",
    "    'C':[0.001,0.01,0.1,1,10,100,1000],\n",
    "    'gamma': [0.001,0.01,0.1,1,10,100,1000],\n",
    "}"
   ]
  },
  {
   "cell_type": "code",
   "execution_count": 44,
   "metadata": {},
   "outputs": [],
   "source": [
    "grid= GridSearchCV(SVC(), param_grid, n_jobs=-1,cv=5)"
   ]
  },
  {
   "cell_type": "code",
   "execution_count": 45,
   "metadata": {},
   "outputs": [
    {
     "data": {
      "text/plain": [
       "GridSearchCV(cv=5, error_score='raise-deprecating',\n",
       "       estimator=SVC(C=1.0, cache_size=200, class_weight=None, coef0=0.0,\n",
       "  decision_function_shape='ovr', degree=3, gamma='auto_deprecated',\n",
       "  kernel='rbf', max_iter=-1, probability=False, random_state=None,\n",
       "  shrinking=True, tol=0.001, verbose=False),\n",
       "       fit_params=None, iid='warn', n_jobs=-1,\n",
       "       param_grid={'C': [0.001, 0.01, 0.1, 1, 10, 100, 1000], 'gamma': [0.001, 0.01, 0.1, 1, 10, 100, 1000]},\n",
       "       pre_dispatch='2*n_jobs', refit=True, return_train_score='warn',\n",
       "       scoring=None, verbose=0)"
      ]
     },
     "execution_count": 45,
     "metadata": {},
     "output_type": "execute_result"
    }
   ],
   "source": [
    "grid.fit(X_train,y_train)"
   ]
  },
  {
   "cell_type": "code",
   "execution_count": 46,
   "metadata": {},
   "outputs": [
    {
     "data": {
      "text/plain": [
       "SVC(C=100, cache_size=200, class_weight=None, coef0=0.0,\n",
       "  decision_function_shape='ovr', degree=3, gamma=0.001, kernel='rbf',\n",
       "  max_iter=-1, probability=False, random_state=None, shrinking=True,\n",
       "  tol=0.001, verbose=False)"
      ]
     },
     "execution_count": 46,
     "metadata": {},
     "output_type": "execute_result"
    }
   ],
   "source": [
    "grid.best_estimator_"
   ]
  },
  {
   "cell_type": "code",
   "execution_count": 47,
   "metadata": {},
   "outputs": [
    {
     "data": {
      "text/plain": [
       "0.8430173292558614"
      ]
     },
     "execution_count": 47,
     "metadata": {},
     "output_type": "execute_result"
    }
   ],
   "source": [
    "grid.best_score_"
   ]
  },
  {
   "cell_type": "code",
   "execution_count": 48,
   "metadata": {},
   "outputs": [
    {
     "data": {
      "text/plain": [
       "0.8475609756097561"
      ]
     },
     "execution_count": 48,
     "metadata": {},
     "output_type": "execute_result"
    }
   ],
   "source": [
    "grid.best_estimator_.score(X_test,y_test)"
   ]
  },
  {
   "cell_type": "code",
   "execution_count": 49,
   "metadata": {},
   "outputs": [
    {
     "data": {
      "text/plain": [
       "0.8827726809378186"
      ]
     },
     "execution_count": 49,
     "metadata": {},
     "output_type": "execute_result"
    }
   ],
   "source": [
    "grid.best_estimator_.score(X_train,y_train)"
   ]
  },
  {
   "cell_type": "code",
   "execution_count": 50,
   "metadata": {},
   "outputs": [
    {
     "name": "stdout",
     "output_type": "stream",
     "text": [
      "MODEL RESULT\n",
      "============\n",
      "Confusion Matrix:\n",
      " [[173  24]\n",
      " [ 26 105]]\n",
      "\n",
      "Classification Report:\n",
      "               precision    recall  f1-score   support\n",
      "\n",
      "           1       0.87      0.88      0.87       197\n",
      "           0       0.81      0.80      0.81       131\n",
      "\n",
      "   micro avg       0.85      0.85      0.85       328\n",
      "   macro avg       0.84      0.84      0.84       328\n",
      "weighted avg       0.85      0.85      0.85       328\n",
      "\n"
     ]
    },
    {
     "data": {
      "image/png": "[encoded data removed]",
      "text/plain": [
       "<Figure size 432x288 with 2 Axes>"
      ]
     },
     "metadata": {
      "needs_background": "light"
     },
     "output_type": "display_data"
    }
   ],
   "source": [
    "classreport(grid.best_estimator_,X_test)"
   ]
  },
  {
   "cell_type": "markdown",
   "metadata": {},
   "source": [
    "#### SCALING"
   ]
  },
  {
   "cell_type": "markdown",
   "metadata": {},
   "source": [
    "##### Standard Scaler"
   ]
  },
  {
   "cell_type": "code",
   "execution_count": 51,
   "metadata": {},
   "outputs": [],
   "source": [
    "scaler= StandardScaler()"
   ]
  },
  {
   "cell_type": "code",
   "execution_count": 52,
   "metadata": {},
   "outputs": [
    {
     "data": {
      "text/plain": [
       "StandardScaler(copy=True, with_mean=True, with_std=True)"
      ]
     },
     "execution_count": 52,
     "metadata": {},
     "output_type": "execute_result"
    }
   ],
   "source": [
    "scaler.fit(X_train)"
   ]
  },
  {
   "cell_type": "code",
   "execution_count": 53,
   "metadata": {},
   "outputs": [],
   "source": [
    "X_train_standard=scaler.transform(X_train)"
   ]
  },
  {
   "cell_type": "code",
   "execution_count": 54,
   "metadata": {},
   "outputs": [],
   "source": [
    "X_test_standard=scaler.transform(X_test)"
   ]
  },
  {
   "cell_type": "code",
   "execution_count": 55,
   "metadata": {},
   "outputs": [
    {
     "data": {
      "text/plain": [
       "GridSearchCV(cv=5, error_score='raise-deprecating',\n",
       "       estimator=SVC(C=1.0, cache_size=200, class_weight=None, coef0=0.0,\n",
       "  decision_function_shape='ovr', degree=3, gamma='auto_deprecated',\n",
       "  kernel='rbf', max_iter=-1, probability=False, random_state=None,\n",
       "  shrinking=True, tol=0.001, verbose=False),\n",
       "       fit_params=None, iid='warn', n_jobs=-1,\n",
       "       param_grid={'C': [0.001, 0.01, 0.1, 1, 10, 100, 1000], 'gamma': [0.001, 0.01, 0.1, 1, 10, 100, 1000]},\n",
       "       pre_dispatch='2*n_jobs', refit=True, return_train_score='warn',\n",
       "       scoring=None, verbose=0)"
      ]
     },
     "execution_count": 55,
     "metadata": {},
     "output_type": "execute_result"
    }
   ],
   "source": [
    "grid= GridSearchCV(SVC(), param_grid, n_jobs=-1,cv=5)\n",
    "grid.fit(X_train_standard,y_train)"
   ]
  },
  {
   "cell_type": "code",
   "execution_count": 56,
   "metadata": {},
   "outputs": [
    {
     "data": {
      "text/plain": [
       "SVC(C=10, cache_size=200, class_weight=None, coef0=0.0,\n",
       "  decision_function_shape='ovr', degree=3, gamma=0.001, kernel='rbf',\n",
       "  max_iter=-1, probability=False, random_state=None, shrinking=True,\n",
       "  tol=0.001, verbose=False)"
      ]
     },
     "execution_count": 56,
     "metadata": {},
     "output_type": "execute_result"
    }
   ],
   "source": [
    "grid.best_estimator_"
   ]
  },
  {
   "cell_type": "code",
   "execution_count": 57,
   "metadata": {},
   "outputs": [
    {
     "data": {
      "text/plain": [
       "0.8583078491335372"
      ]
     },
     "execution_count": 57,
     "metadata": {},
     "output_type": "execute_result"
    }
   ],
   "source": [
    "grid.best_score_"
   ]
  },
  {
   "cell_type": "code",
   "execution_count": 58,
   "metadata": {},
   "outputs": [
    {
     "data": {
      "text/plain": [
       "0.8353658536585366"
      ]
     },
     "execution_count": 58,
     "metadata": {},
     "output_type": "execute_result"
    }
   ],
   "source": [
    "grid.best_estimator_.score(X_test_standard,y_test)"
   ]
  },
  {
   "cell_type": "code",
   "execution_count": 59,
   "metadata": {},
   "outputs": [
    {
     "data": {
      "text/plain": [
       "0.8990825688073395"
      ]
     },
     "execution_count": 59,
     "metadata": {},
     "output_type": "execute_result"
    }
   ],
   "source": [
    "grid.best_estimator_.score(X_train_standard,y_train)"
   ]
  },
  {
   "cell_type": "code",
   "execution_count": 60,
   "metadata": {},
   "outputs": [
    {
     "name": "stdout",
     "output_type": "stream",
     "text": [
      "MODEL RESULT\n",
      "============\n",
      "Confusion Matrix:\n",
      " [[176  21]\n",
      " [ 33  98]]\n",
      "\n",
      "Classification Report:\n",
      "               precision    recall  f1-score   support\n",
      "\n",
      "           1       0.84      0.89      0.87       197\n",
      "           0       0.82      0.75      0.78       131\n",
      "\n",
      "   micro avg       0.84      0.84      0.84       328\n",
      "   macro avg       0.83      0.82      0.83       328\n",
      "weighted avg       0.83      0.84      0.83       328\n",
      "\n"
     ]
    },
    {
     "data": {
      "image/png": "[encoded data removed]",
      "text/plain": [
       "<Figure size 432x288 with 2 Axes>"
      ]
     },
     "metadata": {
      "needs_background": "light"
     },
     "output_type": "display_data"
    }
   ],
   "source": [
    "classreport(grid.best_estimator_,X_test_standard)"
   ]
  },
  {
   "cell_type": "markdown",
   "metadata": {},
   "source": [
    "##### Min Max Scaler"
   ]
  },
  {
   "cell_type": "code",
   "execution_count": 61,
   "metadata": {},
   "outputs": [],
   "source": [
    "scaler=MinMaxScaler()"
   ]
  },
  {
   "cell_type": "code",
   "execution_count": 62,
   "metadata": {},
   "outputs": [],
   "source": [
    "scaler.fit(X_train)\n",
    "X_train_minmax=scaler.transform(X_train)\n",
    "X_test_minmax=scaler.transform(X_test)"
   ]
  },
  {
   "cell_type": "code",
   "execution_count": 63,
   "metadata": {},
   "outputs": [
    {
     "data": {
      "text/plain": [
       "GridSearchCV(cv=5, error_score='raise-deprecating',\n",
       "       estimator=SVC(C=1.0, cache_size=200, class_weight=None, coef0=0.0,\n",
       "  decision_function_shape='ovr', degree=3, gamma='auto_deprecated',\n",
       "  kernel='rbf', max_iter=-1, probability=False, random_state=None,\n",
       "  shrinking=True, tol=0.001, verbose=False),\n",
       "       fit_params=None, iid='warn', n_jobs=-1,\n",
       "       param_grid={'C': [0.001, 0.01, 0.1, 1, 10, 100, 1000], 'gamma': [0.001, 0.01, 0.1, 1, 10, 100, 1000]},\n",
       "       pre_dispatch='2*n_jobs', refit=True, return_train_score='warn',\n",
       "       scoring=None, verbose=0)"
      ]
     },
     "execution_count": 63,
     "metadata": {},
     "output_type": "execute_result"
    }
   ],
   "source": [
    "grid= GridSearchCV(SVC(), param_grid, n_jobs=-1,cv=5)\n",
    "grid.fit(X_train_minmax,y_train)"
   ]
  },
  {
   "cell_type": "code",
   "execution_count": 64,
   "metadata": {},
   "outputs": [
    {
     "name": "stdout",
     "output_type": "stream",
     "text": [
      "Best Estimator:\n",
      " SVC(C=1000, cache_size=200, class_weight=None, coef0=0.0,\n",
      "  decision_function_shape='ovr', degree=3, gamma=0.01, kernel='rbf',\n",
      "  max_iter=-1, probability=False, random_state=None, shrinking=True,\n",
      "  tol=0.001, verbose=False) \n",
      "Best CV Score:\n",
      " 0.8583078491335372 \n",
      "Test Score:\n",
      " 0.8475609756097561 \n",
      "Train Score:\n",
      " 0.9072375127420998\n"
     ]
    }
   ],
   "source": [
    "print(\n",
    "    'Best Estimator:\\n',\n",
    "    grid.best_estimator_,\n",
    "    '\\nBest CV Score:\\n',\n",
    "    grid.best_score_,\n",
    "    '\\nTest Score:\\n',\n",
    "    grid.best_estimator_.score(X_test_minmax,y_test),\n",
    "    '\\nTrain Score:\\n',\n",
    "    grid.best_estimator_.score(X_train_minmax,y_train)\n",
    ")"
   ]
  },
  {
   "cell_type": "code",
   "execution_count": 65,
   "metadata": {},
   "outputs": [
    {
     "name": "stdout",
     "output_type": "stream",
     "text": [
      "MODEL RESULT\n",
      "============\n",
      "Confusion Matrix:\n",
      " [[179  18]\n",
      " [ 32  99]]\n",
      "\n",
      "Classification Report:\n",
      "               precision    recall  f1-score   support\n",
      "\n",
      "           1       0.85      0.91      0.88       197\n",
      "           0       0.85      0.76      0.80       131\n",
      "\n",
      "   micro avg       0.85      0.85      0.85       328\n",
      "   macro avg       0.85      0.83      0.84       328\n",
      "weighted avg       0.85      0.85      0.85       328\n",
      "\n"
     ]
    },
    {
     "data": {
      "image/png": "[encoded data removed]",
      "text/plain": [
       "<Figure size 432x288 with 2 Axes>"
      ]
     },
     "metadata": {
      "needs_background": "light"
     },
     "output_type": "display_data"
    }
   ],
   "source": [
    "classreport(grid.best_estimator_,X_test_minmax)"
   ]
  },
  {
   "cell_type": "markdown",
   "metadata": {},
   "source": [
    "#### Feature Engineering"
   ]
  },
  {
   "cell_type": "markdown",
   "metadata": {},
   "source": [
    "##### PCA"
   ]
  },
  {
   "cell_type": "code",
   "execution_count": 66,
   "metadata": {},
   "outputs": [
    {
     "data": {
      "text/plain": [
       "<matplotlib.collections.PathCollection at 0x19cf050bbe0>"
      ]
     },
     "execution_count": 66,
     "metadata": {},
     "output_type": "execute_result"
    },
    {
     "data": {
      "image/png": "[encoded data removed]",
      "text/plain": [
       "<Figure size 432x288 with 1 Axes>"
      ]
     },
     "metadata": {
      "needs_background": "light"
     },
     "output_type": "display_data"
    }
   ],
   "source": [
    "pca= PCA(n_components=2)\n",
    "X_train_pca=pca.fit_transform(X_train)\n",
    "X_test_pca=pca.fit_transform(X_test)\n",
    "plt.scatter(X_train_pca[:,0],X_train_pca[:,1],c=y_train)"
   ]
  },
  {
   "cell_type": "markdown",
   "metadata": {},
   "source": [
    "##### TSNE"
   ]
  },
  {
   "cell_type": "code",
   "execution_count": 67,
   "metadata": {},
   "outputs": [
    {
     "data": {
      "text/plain": [
       "<matplotlib.collections.PathCollection at 0x19cf03ef5c0>"
      ]
     },
     "execution_count": 67,
     "metadata": {},
     "output_type": "execute_result"
    },
    {
     "data": {
      "image/png": "[encoded data removed]",
      "text/plain": [
       "<Figure size 360x360 with 1 Axes>"
      ]
     },
     "metadata": {
      "needs_background": "light"
     },
     "output_type": "display_data"
    }
   ],
   "source": [
    "tsne=TSNE(n_components=2,random_state=34)\n",
    "X_train_tsne=tsne.fit_transform(X_train)\n",
    "plt.figure(figsize=(5,5))\n",
    "plt.scatter(X_train_tsne[:,0],X_train_tsne[:,1],c=y_train)"
   ]
  },
  {
   "cell_type": "markdown",
   "metadata": {},
   "source": [
    "#### Scaled PCA"
   ]
  },
  {
   "cell_type": "code",
   "execution_count": 68,
   "metadata": {},
   "outputs": [],
   "source": [
    "n=150\n",
    "X_train_minmax_pca=PCA(n_components=n).fit_transform(X_train_minmax)\n",
    "X_test_minmax_pca=PCA(n_components=n).fit_transform(X_test_minmax)\n",
    "X_train_standard_pca=PCA(n_components=n).fit_transform(X_train_standard)\n",
    "X_test_standard_pca=PCA(n_components=n).fit_transform(X_test_standard)"
   ]
  },
  {
   "cell_type": "code",
   "execution_count": 69,
   "metadata": {},
   "outputs": [
    {
     "name": "stdout",
     "output_type": "stream",
     "text": [
      "Best Estimator:\n",
      " SVC(C=1000, cache_size=200, class_weight=None, coef0=0.0,\n",
      "  decision_function_shape='ovr', degree=3, gamma=0.01, kernel='rbf',\n",
      "  max_iter=-1, probability=False, random_state=None, shrinking=True,\n",
      "  tol=0.001, verbose=False) \n",
      "Best CV Score:\n",
      " 0.8583078491335372 \n",
      "Test Score:\n",
      " 0.8201219512195121 \n",
      "Train Score:\n",
      " 0.9072375127420998\n"
     ]
    }
   ],
   "source": [
    "grid= GridSearchCV(SVC(), param_grid, n_jobs=-1,cv=5)\n",
    "grid.fit(X_train_minmax_pca,y_train)\n",
    "print(\n",
    "    'Best Estimator:\\n',\n",
    "    grid.best_estimator_,\n",
    "    '\\nBest CV Score:\\n',\n",
    "    grid.best_score_,\n",
    "    '\\nTest Score:\\n',\n",
    "    grid.best_estimator_.score(X_test_minmax_pca,y_test),\n",
    "    '\\nTrain Score:\\n',\n",
    "    grid.best_estimator_.score(X_train_minmax_pca,y_train)\n",
    ")"
   ]
  },
  {
   "cell_type": "code",
   "execution_count": 70,
   "metadata": {},
   "outputs": [
    {
     "name": "stdout",
     "output_type": "stream",
     "text": [
      "MODEL RESULT\n",
      "============\n",
      "Confusion Matrix:\n",
      " [[171  26]\n",
      " [ 33  98]]\n",
      "\n",
      "Classification Report:\n",
      "               precision    recall  f1-score   support\n",
      "\n",
      "           1       0.84      0.87      0.85       197\n",
      "           0       0.79      0.75      0.77       131\n",
      "\n",
      "   micro avg       0.82      0.82      0.82       328\n",
      "   macro avg       0.81      0.81      0.81       328\n",
      "weighted avg       0.82      0.82      0.82       328\n",
      "\n"
     ]
    },
    {
     "data": {
      "image/png": "[encoded data removed]",
      "text/plain": [
       "<Figure size 432x288 with 2 Axes>"
      ]
     },
     "metadata": {
      "needs_background": "light"
     },
     "output_type": "display_data"
    }
   ],
   "source": [
    "classreport(grid.best_estimator_,X_test_minmax_pca)"
   ]
  },
  {
   "cell_type": "code",
   "execution_count": 71,
   "metadata": {},
   "outputs": [
    {
     "name": "stdout",
     "output_type": "stream",
     "text": [
      "Best Estimator:\n",
      " SVC(C=1, cache_size=200, class_weight=None, coef0=0.0,\n",
      "  decision_function_shape='ovr', degree=3, gamma=0.001, kernel='rbf',\n",
      "  max_iter=-1, probability=False, random_state=None, shrinking=True,\n",
      "  tol=0.001, verbose=False) \n",
      "Best CV Score:\n",
      " 0.8511722731906218 \n",
      "Test Score:\n",
      " 0.32621951219512196 \n",
      "Train Score:\n",
      " 0.8827726809378186\n"
     ]
    }
   ],
   "source": [
    "grid= GridSearchCV(SVC(), param_grid, n_jobs=-1,cv=5)\n",
    "grid.fit(X_train_standard_pca,y_train)\n",
    "print(\n",
    "    'Best Estimator:\\n',\n",
    "    grid.best_estimator_,\n",
    "    '\\nBest CV Score:\\n',\n",
    "    grid.best_score_,\n",
    "    '\\nTest Score:\\n',\n",
    "    grid.best_estimator_.score(X_test_standard_pca,y_test),\n",
    "    '\\nTrain Score:\\n',\n",
    "    grid.best_estimator_.score(X_train_standard_pca,y_train)\n",
    ")"
   ]
  },
  {
   "cell_type": "code",
   "execution_count": 72,
   "metadata": {},
   "outputs": [
    {
     "name": "stdout",
     "output_type": "stream",
     "text": [
      "MODEL RESULT\n",
      "============\n",
      "Confusion Matrix:\n",
      " [[ 69 128]\n",
      " [ 93  38]]\n",
      "\n",
      "Classification Report:\n",
      "               precision    recall  f1-score   support\n",
      "\n",
      "           1       0.43      0.35      0.38       197\n",
      "           0       0.23      0.29      0.26       131\n",
      "\n",
      "   micro avg       0.33      0.33      0.33       328\n",
      "   macro avg       0.33      0.32      0.32       328\n",
      "weighted avg       0.35      0.33      0.33       328\n",
      "\n"
     ]
    },
    {
     "data": {
      "image/png": "[encoded data removed]",
      "text/plain": [
       "<Figure size 432x288 with 2 Axes>"
      ]
     },
     "metadata": {
      "needs_background": "light"
     },
     "output_type": "display_data"
    }
   ],
   "source": [
    "classreport(grid.best_estimator_,X_test_standard_pca)"
   ]
  },
  {
   "cell_type": "markdown",
   "metadata": {},
   "source": [
    "Bad Idea!"
   ]
  },
  {
   "cell_type": "markdown",
   "metadata": {},
   "source": [
    "## 2. Random Forests Classifier"
   ]
  },
  {
   "cell_type": "code",
   "execution_count": 73,
   "metadata": {},
   "outputs": [],
   "source": [
    "param_grid={\n",
    "    'max_depth':[2,3,4,5,10,15],\n",
    "    'n_estimators':[50,100,150,200,500,1000],\n",
    "}"
   ]
  },
  {
   "cell_type": "code",
   "execution_count": 74,
   "metadata": {
    "scrolled": true
   },
   "outputs": [
    {
     "name": "stdout",
     "output_type": "stream",
     "text": [
      "Best Estimator:\n",
      " RandomForestClassifier(bootstrap=True, class_weight=None, criterion='gini',\n",
      "            max_depth=10, max_features='auto', max_leaf_nodes=None,\n",
      "            min_impurity_decrease=0.0, min_impurity_split=None,\n",
      "            min_samples_leaf=1, min_samples_split=2,\n",
      "            min_weight_fraction_leaf=0.0, n_estimators=500, n_jobs=None,\n",
      "            oob_score=False, random_state=None, verbose=0,\n",
      "            warm_start=False) \n",
      "Best CV Score:\n",
      " 0.8623853211009175 \n",
      "Test Score:\n",
      " 0.8567073170731707 \n",
      "Train Score:\n",
      " 0.8939857288481141\n"
     ]
    }
   ],
   "source": [
    "grid_rfc=GridSearchCV(RandomForestClassifier(), param_grid, n_jobs=-1,cv=5)\n",
    "grid_rfc.fit(X_train,y_train)\n",
    "print(\n",
    "    'Best Estimator:\\n',\n",
    "    grid_rfc.best_estimator_,\n",
    "    '\\nBest CV Score:\\n',\n",
    "    grid_rfc.best_score_,\n",
    "    '\\nTest Score:\\n',\n",
    "    grid_rfc.best_estimator_.score(X_test,y_test),\n",
    "    '\\nTrain Score:\\n',\n",
    "    grid_rfc.best_estimator_.score(X_train,y_train)\n",
    ")"
   ]
  },
  {
   "cell_type": "code",
   "execution_count": 75,
   "metadata": {},
   "outputs": [
    {
     "name": "stdout",
     "output_type": "stream",
     "text": [
      "MODEL RESULT\n",
      "============\n",
      "Confusion Matrix:\n",
      " [[179  18]\n",
      " [ 29 102]]\n",
      "\n",
      "Classification Report:\n",
      "               precision    recall  f1-score   support\n",
      "\n",
      "           1       0.86      0.91      0.88       197\n",
      "           0       0.85      0.78      0.81       131\n",
      "\n",
      "   micro avg       0.86      0.86      0.86       328\n",
      "   macro avg       0.86      0.84      0.85       328\n",
      "weighted avg       0.86      0.86      0.86       328\n",
      "\n"
     ]
    },
    {
     "data": {
      "image/png": "[encoded data removed]",
      "text/plain": [
       "<Figure size 432x288 with 2 Axes>"
      ]
     },
     "metadata": {
      "needs_background": "light"
     },
     "output_type": "display_data"
    }
   ],
   "source": [
    "classreport(grid_rfc.best_estimator_,X_test)"
   ]
  },
  {
   "cell_type": "code",
   "execution_count": 76,
   "metadata": {
    "scrolled": false
   },
   "outputs": [
    {
     "data": {
      "text/plain": [
       "array([[7.86678957e-02, 8.96774289e-02, 2.57960246e-02, 1.00010157e-02,\n",
       "        3.23450054e-02, 2.64540974e-01, 2.99078053e-01, 1.30813224e-02,\n",
       "        1.48765076e-02, 3.90073329e-03, 4.09276702e-03, 4.83208627e-03,\n",
       "        1.14893199e-03, 3.01558769e-03, 1.43473851e-02, 9.64087918e-03,\n",
       "        8.69727306e-03, 9.52629865e-04, 7.56560534e-04, 1.66165596e-03,\n",
       "        9.32208696e-04, 5.63481388e-04, 2.03686417e-04, 3.14776712e-04,\n",
       "        9.73860246e-05, 1.16111855e-04, 1.22576253e-04, 8.10284602e-05,\n",
       "        8.32641591e-04, 1.31890061e-04, 0.00000000e+00, 0.00000000e+00,\n",
       "        1.09406521e-03, 1.07882129e-04, 0.00000000e+00, 1.75060857e-04,\n",
       "        7.30314884e-04, 1.38684419e-04, 0.00000000e+00, 0.00000000e+00,\n",
       "        0.00000000e+00, 1.30241218e-04, 0.00000000e+00, 6.70883046e-04,\n",
       "        9.40331466e-05, 9.61032695e-05, 5.97245568e-04, 0.00000000e+00,\n",
       "        1.35355589e-03, 3.05790850e-04, 3.12976849e-04, 1.69544051e-04,\n",
       "        4.72028469e-04, 5.51019594e-05, 0.00000000e+00, 5.93451757e-04,\n",
       "        1.44472011e-04, 8.71452846e-05, 0.00000000e+00, 2.67305025e-04,\n",
       "        2.48147129e-04, 1.46468022e-03, 2.34389432e-04, 2.41024633e-02,\n",
       "        5.71988679e-04, 1.91721559e-04, 8.92105241e-04, 0.00000000e+00,\n",
       "        1.01292466e-04, 3.20258115e-04, 3.88231633e-04, 1.51331144e-04,\n",
       "        2.39448702e-04, 2.13976608e-04, 1.38260155e-04, 3.99660959e-04,\n",
       "        3.32342472e-04, 1.38528528e-04, 3.36832545e-04, 2.35172067e-04,\n",
       "        3.06034670e-04, 8.42946093e-05, 1.26502734e-03, 6.00724342e-04,\n",
       "        3.03260155e-04, 1.03677576e-03, 8.14897923e-05, 3.54897497e-05,\n",
       "        1.09434836e-04, 1.87387768e-04, 2.64297290e-04, 3.23176028e-04,\n",
       "        1.33453994e-04, 0.00000000e+00, 4.20853000e-04, 1.21669986e-04,\n",
       "        0.00000000e+00, 1.62966942e-04, 2.94440291e-04, 0.00000000e+00,\n",
       "        1.76878844e-04, 1.68738047e-03, 6.68031900e-04, 0.00000000e+00,\n",
       "        1.12849175e-04, 2.12737683e-04, 4.22149117e-04, 9.47335468e-05,\n",
       "        0.00000000e+00, 1.97191420e-04, 9.63873404e-04, 1.29177494e-03,\n",
       "        0.00000000e+00, 2.14552587e-04, 1.12194299e-03, 2.02705077e-04,\n",
       "        3.92133584e-04, 1.95600622e-04, 4.92628018e-04, 1.34050637e-04,\n",
       "        2.17752294e-04, 2.95966621e-04, 7.48223056e-04, 7.61260036e-04,\n",
       "        4.68664382e-04, 1.69907592e-04, 0.00000000e+00, 2.05803832e-04,\n",
       "        1.59314903e-04, 2.77742781e-04, 8.79649281e-05, 1.58174981e-04,\n",
       "        0.00000000e+00, 3.35571176e-04, 1.05848841e-03, 8.76214541e-04,\n",
       "        0.00000000e+00, 6.91763154e-05, 9.14275946e-05, 4.35550067e-04,\n",
       "        1.22806392e-03, 0.00000000e+00, 0.00000000e+00, 5.09875918e-04,\n",
       "        1.11544778e-03, 1.12337002e-04, 1.56771979e-04, 0.00000000e+00,\n",
       "        7.51384187e-04, 7.04244513e-04, 4.19612829e-04, 8.75154090e-04,\n",
       "        9.71118666e-05, 8.79832853e-04, 3.58940357e-04, 1.72657304e-04,\n",
       "        1.96526714e-04, 0.00000000e+00, 0.00000000e+00, 6.87136477e-04,\n",
       "        1.60057577e-04, 3.54101623e-04, 4.55823570e-04, 8.19585452e-04,\n",
       "        1.11436227e-04, 1.34758987e-03, 2.23139774e-04, 0.00000000e+00,\n",
       "        1.29955066e-04, 0.00000000e+00, 3.00851708e-04, 1.08098428e-03,\n",
       "        1.14769369e-03, 0.00000000e+00, 1.89757269e-03, 1.05030072e-03,\n",
       "        1.63218488e-04, 4.87996306e-04, 7.07146326e-04, 0.00000000e+00,\n",
       "        1.14331992e-04, 2.25937309e-04, 9.59638742e-05, 1.54272337e-04,\n",
       "        0.00000000e+00, 4.19732540e-04, 2.63265513e-04, 1.13800343e-03,\n",
       "        3.19551206e-04, 7.45302956e-05, 5.80040440e-05, 1.22215375e-04,\n",
       "        2.23621981e-04, 0.00000000e+00, 0.00000000e+00, 1.30166564e-03,\n",
       "        2.87986985e-04, 6.84376129e-05, 1.02808786e-04, 0.00000000e+00,\n",
       "        5.26528414e-05, 1.89812115e-04, 1.85511454e-03, 2.32781066e-03,\n",
       "        9.81046132e-05, 1.10927566e-03, 1.41216539e-03, 1.60147434e-04,\n",
       "        9.14623264e-03, 5.82873184e-03, 1.06146563e-02]])"
      ]
     },
     "execution_count": 76,
     "metadata": {},
     "output_type": "execute_result"
    }
   ],
   "source": [
    "grid_rfc.best_estimator_.feature_importances_.reshape(1,-1)"
   ]
  },
  {
   "cell_type": "code",
   "execution_count": 77,
   "metadata": {
    "scrolled": false
   },
   "outputs": [
    {
     "data": {
      "text/plain": [
       "<matplotlib.colorbar.Colorbar at 0x19cf03a0f60>"
      ]
     },
     "execution_count": 77,
     "metadata": {},
     "output_type": "execute_result"
    },
    {
     "data": {
      "image/png": "[encoded data removed]",
      "text/plain": [
       "<Figure size 720x7200 with 2 Axes>"
      ]
     },
     "metadata": {
      "needs_background": "light"
     },
     "output_type": "display_data"
    }
   ],
   "source": [
    "plt.figure(figsize=(10,100))\n",
    "plt.imshow((grid_rfc.best_estimator_.feature_importances_.reshape(-1,1)))\n",
    "plt.xticks(())\n",
    "plt.yticks((np.arange(211)),data_encoded.columns)\n",
    "plt.colorbar()"
   ]
  },
  {
   "cell_type": "markdown",
   "metadata": {},
   "source": [
    "#### Feature Engineering"
   ]
  },
  {
   "cell_type": "code",
   "execution_count": 78,
   "metadata": {},
   "outputs": [
    {
     "data": {
      "text/plain": [
       "SelectFromModel(estimator=RandomForestClassifier(bootstrap=True, class_weight=None, criterion='gini',\n",
       "            max_depth=10, max_features='auto', max_leaf_nodes=None,\n",
       "            min_impurity_decrease=0.0, min_impurity_split=None,\n",
       "            min_samples_leaf=1, min_samples_split=2,\n",
       "            min_weight_fraction_leaf=0.0, n_estimators=500, n_jobs=None,\n",
       "            oob_score=False, random_state=None, verbose=0,\n",
       "            warm_start=False),\n",
       "        max_features=None, norm_order=1, prefit=False, threshold=None)"
      ]
     },
     "execution_count": 78,
     "metadata": {},
     "output_type": "execute_result"
    }
   ],
   "source": [
    "select=SelectFromModel(grid_rfc.best_estimator_)\n",
    "select.fit(X_train,y_train)"
   ]
  },
  {
   "cell_type": "code",
   "execution_count": 79,
   "metadata": {},
   "outputs": [],
   "source": [
    "X_train_rfc_selected= select.transform(X_train)\n",
    "X_test_rfc_selected= select.transform(X_test)"
   ]
  },
  {
   "cell_type": "code",
   "execution_count": 80,
   "metadata": {
    "scrolled": true
   },
   "outputs": [
    {
     "name": "stdout",
     "output_type": "stream",
     "text": [
      "Test Score:\n",
      " 0.8567073170731707 \n",
      "Train Score:\n",
      " 0.9439347604485219\n"
     ]
    }
   ],
   "source": [
    "grid_rfc.best_estimator_.fit(X_train_rfc_selected,y_train)\n",
    "print(\n",
    "    'Test Score:\\n',\n",
    "    grid_rfc.best_estimator_.score(X_test_rfc_selected,y_test),\n",
    "    '\\nTrain Score:\\n',\n",
    "    grid_rfc.best_estimator_.score(X_train_rfc_selected,y_train)\n",
    ")"
   ]
  },
  {
   "cell_type": "code",
   "execution_count": 81,
   "metadata": {
    "scrolled": false
   },
   "outputs": [
    {
     "data": {
      "image/png": "[encoded data removed]",
      "text/plain": [
       "<Figure size 1440x144 with 2 Axes>"
      ]
     },
     "metadata": {
      "needs_background": "light"
     },
     "output_type": "display_data"
    }
   ],
   "source": [
    "plt.figure(figsize=(20,2))\n",
    "plt.imshow(grid_rfc.best_estimator_.feature_importances_.reshape(1,-1))\n",
    "plt.yticks(())\n",
    "plt.xticks((np.arange(16)),data_encoded.columns[:16],rotation=45)\n",
    "plt.colorbar()\n",
    "plt.xlabel(\"Features\")\n",
    "plt.title(\"Feature Distribution\")\n",
    "plt.show()"
   ]
  },
  {
   "cell_type": "code",
   "execution_count": 82,
   "metadata": {},
   "outputs": [
    {
     "name": "stdout",
     "output_type": "stream",
     "text": [
      "MODEL RESULT\n",
      "============\n",
      "Confusion Matrix:\n",
      " [[181  16]\n",
      " [ 31 100]]\n",
      "\n",
      "Classification Report:\n",
      "               precision    recall  f1-score   support\n",
      "\n",
      "           1       0.85      0.92      0.89       197\n",
      "           0       0.86      0.76      0.81       131\n",
      "\n",
      "   micro avg       0.86      0.86      0.86       328\n",
      "   macro avg       0.86      0.84      0.85       328\n",
      "weighted avg       0.86      0.86      0.85       328\n",
      "\n"
     ]
    },
    {
     "data": {
      "image/png": "[encoded data removed]",
      "text/plain": [
       "<Figure size 432x288 with 2 Axes>"
      ]
     },
     "metadata": {
      "needs_background": "light"
     },
     "output_type": "display_data"
    }
   ],
   "source": [
    "classreport(grid_rfc.best_estimator_,X_test_rfc_selected)"
   ]
  },
  {
   "cell_type": "markdown",
   "metadata": {},
   "source": [
    "Clearly shows if you are male you are most likely to survive"
   ]
  },
  {
   "cell_type": "markdown",
   "metadata": {},
   "source": [
    "## 3. Logistic Regression"
   ]
  },
  {
   "cell_type": "code",
   "execution_count": 83,
   "metadata": {},
   "outputs": [],
   "source": [
    "param_grid={\n",
    "    'C':[0.001,0.01,0.1,1,10,100,1000]\n",
    "}"
   ]
  },
  {
   "cell_type": "code",
   "execution_count": 84,
   "metadata": {
    "scrolled": false
   },
   "outputs": [
    {
     "name": "stdout",
     "output_type": "stream",
     "text": [
      "Best Estimator:\n",
      " LogisticRegression(C=1, class_weight=None, dual=False, fit_intercept=True,\n",
      "          intercept_scaling=1, max_iter=100, multi_class='warn',\n",
      "          n_jobs=None, penalty='l2', random_state=None, solver='warn',\n",
      "          tol=0.0001, verbose=0, warm_start=False) \n",
      "Best CV Score:\n",
      " 0.8562691131498471 \n",
      "Test Score:\n",
      " 0.8567073170731707 \n",
      "Train Score:\n",
      " 0.8776758409785933\n"
     ]
    }
   ],
   "source": [
    "grid_lr = GridSearchCV(LogisticRegression(), param_grid, cv=5, n_jobs=-1)\n",
    "grid_lr.fit(X_train,y_train)\n",
    "print(\n",
    "    'Best Estimator:\\n',\n",
    "    grid_lr.best_estimator_,\n",
    "    '\\nBest CV Score:\\n',\n",
    "    grid_lr.best_score_,\n",
    "    '\\nTest Score:\\n',\n",
    "    grid_lr.best_estimator_.score(X_test,y_test),\n",
    "    '\\nTrain Score:\\n',\n",
    "    grid_lr.best_estimator_.score(X_train,y_train)\n",
    ")"
   ]
  },
  {
   "cell_type": "code",
   "execution_count": 85,
   "metadata": {},
   "outputs": [
    {
     "name": "stdout",
     "output_type": "stream",
     "text": [
      "MODEL RESULT\n",
      "============\n",
      "Confusion Matrix:\n",
      " [[179  18]\n",
      " [ 29 102]]\n",
      "\n",
      "Classification Report:\n",
      "               precision    recall  f1-score   support\n",
      "\n",
      "           1       0.86      0.91      0.88       197\n",
      "           0       0.85      0.78      0.81       131\n",
      "\n",
      "   micro avg       0.86      0.86      0.86       328\n",
      "   macro avg       0.86      0.84      0.85       328\n",
      "weighted avg       0.86      0.86      0.86       328\n",
      "\n"
     ]
    },
    {
     "data": {
      "image/png": "[encoded data removed]",
      "text/plain": [
       "<Figure size 432x288 with 2 Axes>"
      ]
     },
     "metadata": {
      "needs_background": "light"
     },
     "output_type": "display_data"
    }
   ],
   "source": [
    "classreport(grid_lr.best_estimator_,X_test)"
   ]
  },
  {
   "cell_type": "markdown",
   "metadata": {},
   "source": [
    "## 4. K Nearest Neighbors"
   ]
  },
  {
   "cell_type": "code",
   "execution_count": 86,
   "metadata": {},
   "outputs": [],
   "source": [
    "param_grid={\n",
    "    'n_neighbors':[1,2,3,4,5,6,7,8,9,10]\n",
    "}"
   ]
  },
  {
   "cell_type": "code",
   "execution_count": 87,
   "metadata": {},
   "outputs": [
    {
     "name": "stdout",
     "output_type": "stream",
     "text": [
      "Best Estimator:\n",
      " KNeighborsClassifier(algorithm='auto', leaf_size=30, metric='minkowski',\n",
      "           metric_params=None, n_jobs=None, n_neighbors=5, p=2,\n",
      "           weights='uniform') \n",
      "Best CV Score:\n",
      " 0.6962283384301733 \n",
      "Test Score:\n",
      " 0.7073170731707317 \n",
      "Train Score:\n",
      " 0.8032619775739042\n"
     ]
    }
   ],
   "source": [
    "grid_knn = GridSearchCV(KNeighborsClassifier(), param_grid, cv=5, n_jobs=-1)\n",
    "grid_knn.fit(X_train,y_train)\n",
    "print(\n",
    "    'Best Estimator:\\n',\n",
    "    grid_knn.best_estimator_,\n",
    "    '\\nBest CV Score:\\n',\n",
    "    grid_knn.best_score_,\n",
    "    '\\nTest Score:\\n',\n",
    "    grid_knn.best_estimator_.score(X_test,y_test),\n",
    "    '\\nTrain Score:\\n',\n",
    "    grid_knn.best_estimator_.score(X_train,y_train)\n",
    ")"
   ]
  },
  {
   "cell_type": "code",
   "execution_count": 88,
   "metadata": {},
   "outputs": [
    {
     "name": "stdout",
     "output_type": "stream",
     "text": [
      "MODEL RESULT\n",
      "============\n",
      "Confusion Matrix:\n",
      " [[160  37]\n",
      " [ 59  72]]\n",
      "\n",
      "Classification Report:\n",
      "               precision    recall  f1-score   support\n",
      "\n",
      "           1       0.73      0.81      0.77       197\n",
      "           0       0.66      0.55      0.60       131\n",
      "\n",
      "   micro avg       0.71      0.71      0.71       328\n",
      "   macro avg       0.70      0.68      0.68       328\n",
      "weighted avg       0.70      0.71      0.70       328\n",
      "\n"
     ]
    },
    {
     "data": {
      "image/png": "[encoded data removed]",
      "text/plain": [
       "<Figure size 432x288 with 2 Axes>"
      ]
     },
     "metadata": {
      "needs_background": "light"
     },
     "output_type": "display_data"
    }
   ],
   "source": [
    "classreport(grid_knn.best_estimator_,X_test)"
   ]
  },
  {
   "cell_type": "markdown",
   "metadata": {},
   "source": [
    "## With Age Binning"
   ]
  },
  {
   "cell_type": "code",
   "execution_count": 89,
   "metadata": {},
   "outputs": [
    {
     "data": {
      "text/html": [
       "<div>\n",
       "<style scoped>\n",
       "    .dataframe tbody tr th:only-of-type {\n",
       "        vertical-align: middle;\n",
       "    }\n",
       "\n",
       "    .dataframe tbody tr th {\n",
       "        vertical-align: top;\n",
       "    }\n",
       "\n",
       "    .dataframe thead th {\n",
       "        text-align: right;\n",
       "    }\n",
       "</style>\n",
       "<table border=\"1\" class=\"dataframe\">\n",
       "  <thead>\n",
       "    <tr style=\"text-align: right;\">\n",
       "      <th></th>\n",
       "      <th>Pclass</th>\n",
       "      <th>Sex</th>\n",
       "      <th>Age</th>\n",
       "      <th>SibSp</th>\n",
       "      <th>Parch</th>\n",
       "      <th>Fare</th>\n",
       "      <th>Cabin</th>\n",
       "      <th>Embarked</th>\n",
       "    </tr>\n",
       "  </thead>\n",
       "  <tbody>\n",
       "    <tr>\n",
       "      <th>0</th>\n",
       "      <td>3</td>\n",
       "      <td>male</td>\n",
       "      <td>22.0</td>\n",
       "      <td>1</td>\n",
       "      <td>0</td>\n",
       "      <td>7.2500</td>\n",
       "      <td>B45</td>\n",
       "      <td>S</td>\n",
       "    </tr>\n",
       "    <tr>\n",
       "      <th>1</th>\n",
       "      <td>1</td>\n",
       "      <td>female</td>\n",
       "      <td>38.0</td>\n",
       "      <td>1</td>\n",
       "      <td>0</td>\n",
       "      <td>71.2833</td>\n",
       "      <td>C85</td>\n",
       "      <td>C</td>\n",
       "    </tr>\n",
       "    <tr>\n",
       "      <th>2</th>\n",
       "      <td>3</td>\n",
       "      <td>female</td>\n",
       "      <td>26.0</td>\n",
       "      <td>0</td>\n",
       "      <td>0</td>\n",
       "      <td>7.9250</td>\n",
       "      <td>B45</td>\n",
       "      <td>S</td>\n",
       "    </tr>\n",
       "    <tr>\n",
       "      <th>3</th>\n",
       "      <td>1</td>\n",
       "      <td>female</td>\n",
       "      <td>35.0</td>\n",
       "      <td>1</td>\n",
       "      <td>0</td>\n",
       "      <td>53.1000</td>\n",
       "      <td>C123</td>\n",
       "      <td>S</td>\n",
       "    </tr>\n",
       "    <tr>\n",
       "      <th>4</th>\n",
       "      <td>3</td>\n",
       "      <td>male</td>\n",
       "      <td>35.0</td>\n",
       "      <td>0</td>\n",
       "      <td>0</td>\n",
       "      <td>8.0500</td>\n",
       "      <td>B45</td>\n",
       "      <td>S</td>\n",
       "    </tr>\n",
       "  </tbody>\n",
       "</table>\n",
       "</div>"
      ],
      "text/plain": [
       "  Pclass     Sex   Age SibSp Parch     Fare Cabin Embarked\n",
       "0      3    male  22.0     1     0   7.2500   B45        S\n",
       "1      1  female  38.0     1     0  71.2833   C85        C\n",
       "2      3  female  26.0     0     0   7.9250   B45        S\n",
       "3      1  female  35.0     1     0  53.1000  C123        S\n",
       "4      3    male  35.0     0     0   8.0500   B45        S"
      ]
     },
     "execution_count": 89,
     "metadata": {},
     "output_type": "execute_result"
    }
   ],
   "source": [
    "data.head()"
   ]
  },
  {
   "cell_type": "code",
   "execution_count": 90,
   "metadata": {},
   "outputs": [],
   "source": [
    "ages=[]\n",
    "for age in data.Age.values:\n",
    "    if age<10:\n",
    "        ages.append('<10')\n",
    "    elif age>10 and age<=20:\n",
    "        ages.append('10-20')\n",
    "    elif age>20 and age<=30:\n",
    "        ages.append('20-30')\n",
    "    elif age>30 and age<=40:\n",
    "        ages.append('30-40')\n",
    "    elif age>40 and age<=50:\n",
    "        ages.append('40-50')\n",
    "    elif age>50 and age<=60:\n",
    "        ages.append('50-60')\n",
    "    elif age>60 and age<=70:\n",
    "        ages.append('60-70')\n",
    "    elif age>70 and age<=80:\n",
    "        ages.append('70-80')\n",
    "    else:\n",
    "        ages.append('>80')\n",
    "    "
   ]
  },
  {
   "cell_type": "code",
   "execution_count": 91,
   "metadata": {},
   "outputs": [
    {
     "data": {
      "text/plain": [
       "1309"
      ]
     },
     "execution_count": 91,
     "metadata": {},
     "output_type": "execute_result"
    }
   ],
   "source": [
    "len(ages)"
   ]
  },
  {
   "cell_type": "code",
   "execution_count": 92,
   "metadata": {},
   "outputs": [
    {
     "data": {
      "image/png": "[encoded data removed]",
      "text/plain": [
       "<Figure size 1080x360 with 1 Axes>"
      ]
     },
     "metadata": {
      "needs_background": "light"
     },
     "output_type": "display_data"
    }
   ],
   "source": [
    "plt.figure(figsize=(15,5))\n",
    "plt.title(\"Age Distribution\")\n",
    "plt.bar(data.Age.value_counts().keys(),data.Age.value_counts().values)\n",
    "plt.xlabel(\"Age\")\n",
    "plt.ylabel(\"Person Count\")\n",
    "plt.show()"
   ]
  },
  {
   "cell_type": "code",
   "execution_count": 93,
   "metadata": {},
   "outputs": [],
   "source": [
    "data.index=np.arange(1309)\n",
    "target.index=np.arange(1309)"
   ]
  },
  {
   "cell_type": "code",
   "execution_count": 94,
   "metadata": {},
   "outputs": [],
   "source": [
    "data_age_bin=data"
   ]
  },
  {
   "cell_type": "code",
   "execution_count": 95,
   "metadata": {},
   "outputs": [],
   "source": [
    "data_age_bin.Age=(ages)"
   ]
  },
  {
   "cell_type": "code",
   "execution_count": 96,
   "metadata": {},
   "outputs": [
    {
     "name": "stdout",
     "output_type": "stream",
     "text": [
      "<class 'pandas.core.frame.DataFrame'>\n",
      "Int64Index: 1309 entries, 0 to 1308\n",
      "Data columns (total 8 columns):\n",
      "Pclass      1309 non-null object\n",
      "Sex         1309 non-null object\n",
      "Age         1309 non-null object\n",
      "SibSp       1309 non-null object\n",
      "Parch       1309 non-null object\n",
      "Fare        1309 non-null float64\n",
      "Cabin       1309 non-null object\n",
      "Embarked    1309 non-null object\n",
      "dtypes: float64(1), object(7)\n",
      "memory usage: 92.0+ KB\n"
     ]
    }
   ],
   "source": [
    "data_age_bin.info()"
   ]
  },
  {
   "cell_type": "code",
   "execution_count": 97,
   "metadata": {},
   "outputs": [
    {
     "data": {
      "text/plain": [
       "20-30    452\n",
       "30-40    267\n",
       "10-20    197\n",
       "40-50    167\n",
       "<10      107\n",
       "50-60     79\n",
       "60-70     29\n",
       "70-80      6\n",
       ">80        5\n",
       "Name: Age, dtype: int64"
      ]
     },
     "execution_count": 97,
     "metadata": {},
     "output_type": "execute_result"
    }
   ],
   "source": [
    "data_age_bin.Age.value_counts()"
   ]
  },
  {
   "cell_type": "code",
   "execution_count": 98,
   "metadata": {},
   "outputs": [],
   "source": [
    "data_age_bin= pd.get_dummies(data_age_bin)"
   ]
  },
  {
   "cell_type": "code",
   "execution_count": 99,
   "metadata": {
    "scrolled": true
   },
   "outputs": [
    {
     "data": {
      "text/html": [
       "<div>\n",
       "<style scoped>\n",
       "    .dataframe tbody tr th:only-of-type {\n",
       "        vertical-align: middle;\n",
       "    }\n",
       "\n",
       "    .dataframe tbody tr th {\n",
       "        vertical-align: top;\n",
       "    }\n",
       "\n",
       "    .dataframe thead th {\n",
       "        text-align: right;\n",
       "    }\n",
       "</style>\n",
       "<table border=\"1\" class=\"dataframe\">\n",
       "  <thead>\n",
       "    <tr style=\"text-align: right;\">\n",
       "      <th></th>\n",
       "      <th>Fare</th>\n",
       "      <th>Pclass_1</th>\n",
       "      <th>Pclass_2</th>\n",
       "      <th>Pclass_3</th>\n",
       "      <th>Sex_female</th>\n",
       "      <th>Sex_male</th>\n",
       "      <th>Age_10-20</th>\n",
       "      <th>Age_20-30</th>\n",
       "      <th>Age_30-40</th>\n",
       "      <th>Age_40-50</th>\n",
       "      <th>...</th>\n",
       "      <th>Cabin_F G73</th>\n",
       "      <th>Cabin_F2</th>\n",
       "      <th>Cabin_F33</th>\n",
       "      <th>Cabin_F38</th>\n",
       "      <th>Cabin_F4</th>\n",
       "      <th>Cabin_G6</th>\n",
       "      <th>Cabin_T</th>\n",
       "      <th>Embarked_C</th>\n",
       "      <th>Embarked_Q</th>\n",
       "      <th>Embarked_S</th>\n",
       "    </tr>\n",
       "  </thead>\n",
       "  <tbody>\n",
       "    <tr>\n",
       "      <th>0</th>\n",
       "      <td>7.2500</td>\n",
       "      <td>0</td>\n",
       "      <td>0</td>\n",
       "      <td>1</td>\n",
       "      <td>0</td>\n",
       "      <td>1</td>\n",
       "      <td>0</td>\n",
       "      <td>1</td>\n",
       "      <td>0</td>\n",
       "      <td>0</td>\n",
       "      <td>...</td>\n",
       "      <td>0</td>\n",
       "      <td>0</td>\n",
       "      <td>0</td>\n",
       "      <td>0</td>\n",
       "      <td>0</td>\n",
       "      <td>0</td>\n",
       "      <td>0</td>\n",
       "      <td>0</td>\n",
       "      <td>0</td>\n",
       "      <td>1</td>\n",
       "    </tr>\n",
       "    <tr>\n",
       "      <th>1</th>\n",
       "      <td>71.2833</td>\n",
       "      <td>1</td>\n",
       "      <td>0</td>\n",
       "      <td>0</td>\n",
       "      <td>1</td>\n",
       "      <td>0</td>\n",
       "      <td>0</td>\n",
       "      <td>0</td>\n",
       "      <td>1</td>\n",
       "      <td>0</td>\n",
       "      <td>...</td>\n",
       "      <td>0</td>\n",
       "      <td>0</td>\n",
       "      <td>0</td>\n",
       "      <td>0</td>\n",
       "      <td>0</td>\n",
       "      <td>0</td>\n",
       "      <td>0</td>\n",
       "      <td>1</td>\n",
       "      <td>0</td>\n",
       "      <td>0</td>\n",
       "    </tr>\n",
       "    <tr>\n",
       "      <th>2</th>\n",
       "      <td>7.9250</td>\n",
       "      <td>0</td>\n",
       "      <td>0</td>\n",
       "      <td>1</td>\n",
       "      <td>1</td>\n",
       "      <td>0</td>\n",
       "      <td>0</td>\n",
       "      <td>1</td>\n",
       "      <td>0</td>\n",
       "      <td>0</td>\n",
       "      <td>...</td>\n",
       "      <td>0</td>\n",
       "      <td>0</td>\n",
       "      <td>0</td>\n",
       "      <td>0</td>\n",
       "      <td>0</td>\n",
       "      <td>0</td>\n",
       "      <td>0</td>\n",
       "      <td>0</td>\n",
       "      <td>0</td>\n",
       "      <td>1</td>\n",
       "    </tr>\n",
       "    <tr>\n",
       "      <th>3</th>\n",
       "      <td>53.1000</td>\n",
       "      <td>1</td>\n",
       "      <td>0</td>\n",
       "      <td>0</td>\n",
       "      <td>1</td>\n",
       "      <td>0</td>\n",
       "      <td>0</td>\n",
       "      <td>0</td>\n",
       "      <td>1</td>\n",
       "      <td>0</td>\n",
       "      <td>...</td>\n",
       "      <td>0</td>\n",
       "      <td>0</td>\n",
       "      <td>0</td>\n",
       "      <td>0</td>\n",
       "      <td>0</td>\n",
       "      <td>0</td>\n",
       "      <td>0</td>\n",
       "      <td>0</td>\n",
       "      <td>0</td>\n",
       "      <td>1</td>\n",
       "    </tr>\n",
       "    <tr>\n",
       "      <th>4</th>\n",
       "      <td>8.0500</td>\n",
       "      <td>0</td>\n",
       "      <td>0</td>\n",
       "      <td>1</td>\n",
       "      <td>0</td>\n",
       "      <td>1</td>\n",
       "      <td>0</td>\n",
       "      <td>0</td>\n",
       "      <td>1</td>\n",
       "      <td>0</td>\n",
       "      <td>...</td>\n",
       "      <td>0</td>\n",
       "      <td>0</td>\n",
       "      <td>0</td>\n",
       "      <td>0</td>\n",
       "      <td>0</td>\n",
       "      <td>0</td>\n",
       "      <td>0</td>\n",
       "      <td>0</td>\n",
       "      <td>0</td>\n",
       "      <td>1</td>\n",
       "    </tr>\n",
       "  </tbody>\n",
       "</table>\n",
       "<p>5 rows × 219 columns</p>\n",
       "</div>"
      ],
      "text/plain": [
       "      Fare  Pclass_1  Pclass_2  Pclass_3  Sex_female  Sex_male  Age_10-20  \\\n",
       "0   7.2500         0         0         1           0         1          0   \n",
       "1  71.2833         1         0         0           1         0          0   \n",
       "2   7.9250         0         0         1           1         0          0   \n",
       "3  53.1000         1         0         0           1         0          0   \n",
       "4   8.0500         0         0         1           0         1          0   \n",
       "\n",
       "   Age_20-30  Age_30-40  Age_40-50  ...  Cabin_F G73  Cabin_F2  Cabin_F33  \\\n",
       "0          1          0          0  ...            0         0          0   \n",
       "1          0          1          0  ...            0         0          0   \n",
       "2          1          0          0  ...            0         0          0   \n",
       "3          0          1          0  ...            0         0          0   \n",
       "4          0          1          0  ...            0         0          0   \n",
       "\n",
       "   Cabin_F38  Cabin_F4  Cabin_G6  Cabin_T  Embarked_C  Embarked_Q  Embarked_S  \n",
       "0          0         0         0        0           0           0           1  \n",
       "1          0         0         0        0           1           0           0  \n",
       "2          0         0         0        0           0           0           1  \n",
       "3          0         0         0        0           0           0           1  \n",
       "4          0         0         0        0           0           0           1  \n",
       "\n",
       "[5 rows x 219 columns]"
      ]
     },
     "execution_count": 99,
     "metadata": {},
     "output_type": "execute_result"
    }
   ],
   "source": [
    "data_age_bin.head()"
   ]
  },
  {
   "cell_type": "code",
   "execution_count": 100,
   "metadata": {},
   "outputs": [
    {
     "data": {
      "text/plain": [
       "Index(['Fare', 'Pclass_1', 'Pclass_2', 'Pclass_3', 'Sex_female', 'Sex_male',\n",
       "       'Age_10-20', 'Age_20-30', 'Age_30-40', 'Age_40-50',\n",
       "       ...\n",
       "       'Cabin_F G73', 'Cabin_F2', 'Cabin_F33', 'Cabin_F38', 'Cabin_F4',\n",
       "       'Cabin_G6', 'Cabin_T', 'Embarked_C', 'Embarked_Q', 'Embarked_S'],\n",
       "      dtype='object', length=219)"
      ]
     },
     "execution_count": 100,
     "metadata": {},
     "output_type": "execute_result"
    }
   ],
   "source": [
    "data_age_bin.columns"
   ]
  },
  {
   "cell_type": "code",
   "execution_count": 101,
   "metadata": {},
   "outputs": [],
   "source": [
    "X=data_age_bin"
   ]
  },
  {
   "cell_type": "code",
   "execution_count": 102,
   "metadata": {},
   "outputs": [],
   "source": [
    "X_train,X_test, y_train,y_test= train_test_split(X,y, test_size=0.25, random_state=45)"
   ]
  },
  {
   "cell_type": "code",
   "execution_count": 103,
   "metadata": {},
   "outputs": [
    {
     "data": {
      "text/plain": [
       "((981, 219), (328, 219), (981,), (328,))"
      ]
     },
     "execution_count": 103,
     "metadata": {},
     "output_type": "execute_result"
    }
   ],
   "source": [
    "X_train.shape, X_test.shape, y_train.shape, y_test.shape"
   ]
  },
  {
   "cell_type": "markdown",
   "metadata": {},
   "source": [
    "### Using Random Forests"
   ]
  },
  {
   "cell_type": "code",
   "execution_count": 104,
   "metadata": {},
   "outputs": [
    {
     "name": "stdout",
     "output_type": "stream",
     "text": [
      "Best Estimator:\n",
      " RandomForestClassifier(bootstrap=True, class_weight=None, criterion='gini',\n",
      "            max_depth=10, max_features='auto', max_leaf_nodes=None,\n",
      "            min_impurity_decrease=0.0, min_impurity_split=None,\n",
      "            min_samples_leaf=1, min_samples_split=2,\n",
      "            min_weight_fraction_leaf=0.0, n_estimators=50, n_jobs=None,\n",
      "            oob_score=False, random_state=None, verbose=0,\n",
      "            warm_start=False) \n",
      "Best CV Score:\n",
      " 0.8511722731906218 \n",
      "Test Score:\n",
      " 0.9085365853658537 \n",
      "Train Score:\n",
      " 0.890927624872579\n"
     ]
    }
   ],
   "source": [
    "param_grid={\n",
    "    'max_depth':[2,3,4,5,10,15],\n",
    "    'n_estimators':[50,100,150,200,500,1000],\n",
    "}\n",
    "grid_rfc_age_bin=GridSearchCV(RandomForestClassifier(), param_grid, n_jobs=-1,cv=5)\n",
    "grid_rfc_age_bin.fit(X_train,y_train)\n",
    "print(\n",
    "    'Best Estimator:\\n',\n",
    "    grid_rfc_age_bin.best_estimator_,\n",
    "    '\\nBest CV Score:\\n',\n",
    "    grid_rfc_age_bin.best_score_,\n",
    "    '\\nTest Score:\\n',\n",
    "    grid_rfc_age_bin.best_estimator_.score(X_test,y_test),\n",
    "    '\\nTrain Score:\\n',\n",
    "    grid_rfc_age_bin.best_estimator_.score(X_train,y_train)\n",
    ")"
   ]
  },
  {
   "cell_type": "code",
   "execution_count": 105,
   "metadata": {},
   "outputs": [
    {
     "name": "stdout",
     "output_type": "stream",
     "text": [
      "MODEL RESULT\n",
      "============\n",
      "Confusion Matrix:\n",
      " [[198  10]\n",
      " [ 20 100]]\n",
      "\n",
      "Classification Report:\n",
      "               precision    recall  f1-score   support\n",
      "\n",
      "           1       0.91      0.95      0.93       208\n",
      "           0       0.91      0.83      0.87       120\n",
      "\n",
      "   micro avg       0.91      0.91      0.91       328\n",
      "   macro avg       0.91      0.89      0.90       328\n",
      "weighted avg       0.91      0.91      0.91       328\n",
      "\n"
     ]
    },
    {
     "data": {
      "image/png": "[encoded data removed]",
      "text/plain": [
       "<Figure size 432x288 with 2 Axes>"
      ]
     },
     "metadata": {
      "needs_background": "light"
     },
     "output_type": "display_data"
    }
   ],
   "source": [
    "classreport(grid_rfc_age_bin.best_estimator_,X_test)"
   ]
  },
  {
   "cell_type": "markdown",
   "metadata": {},
   "source": [
    "#### Feature Selection"
   ]
  },
  {
   "cell_type": "code",
   "execution_count": 106,
   "metadata": {},
   "outputs": [
    {
     "data": {
      "text/plain": [
       "SelectFromModel(estimator=RandomForestClassifier(bootstrap=True, class_weight=None, criterion='gini',\n",
       "            max_depth=10, max_features='auto', max_leaf_nodes=None,\n",
       "            min_impurity_decrease=0.0, min_impurity_split=None,\n",
       "            min_samples_leaf=1, min_samples_split=2,\n",
       "            min_weight_fraction_leaf=0.0, n_estimators=50, n_jobs=None,\n",
       "            oob_score=False, random_state=None, verbose=0,\n",
       "            warm_start=False),\n",
       "        max_features=None, norm_order=1, prefit=False, threshold=None)"
      ]
     },
     "execution_count": 106,
     "metadata": {},
     "output_type": "execute_result"
    }
   ],
   "source": [
    "select= SelectFromModel(grid_rfc_age_bin.best_estimator_)\n",
    "select.fit(X_train,y_train)"
   ]
  },
  {
   "cell_type": "code",
   "execution_count": 107,
   "metadata": {},
   "outputs": [],
   "source": [
    "bool_array=select.get_support()"
   ]
  },
  {
   "cell_type": "code",
   "execution_count": 108,
   "metadata": {},
   "outputs": [],
   "source": [
    "selected_features=[]\n",
    "for i in range(219):\n",
    "    if bool_array[i]==True:\n",
    "        selected_features.append((data_age_bin.columns)[i])"
   ]
  },
  {
   "cell_type": "code",
   "execution_count": 109,
   "metadata": {},
   "outputs": [
    {
     "data": {
      "text/plain": [
       "['Fare',\n",
       " 'Pclass_1',\n",
       " 'Pclass_2',\n",
       " 'Pclass_3',\n",
       " 'Sex_female',\n",
       " 'Sex_male',\n",
       " 'Age_10-20',\n",
       " 'Age_20-30',\n",
       " 'Age_30-40',\n",
       " 'Age_40-50',\n",
       " 'Age_<10',\n",
       " 'SibSp_0',\n",
       " 'SibSp_1',\n",
       " 'SibSp_3',\n",
       " 'Parch_0',\n",
       " 'Parch_1',\n",
       " 'Parch_2',\n",
       " 'Cabin_B45',\n",
       " 'Embarked_C',\n",
       " 'Embarked_Q',\n",
       " 'Embarked_S']"
      ]
     },
     "execution_count": 109,
     "metadata": {},
     "output_type": "execute_result"
    }
   ],
   "source": [
    "selected_features"
   ]
  },
  {
   "cell_type": "code",
   "execution_count": 110,
   "metadata": {},
   "outputs": [],
   "source": [
    "X_train_age_bin_selected= select.transform(X_train)\n",
    "X_test_age_bin_selected= select.transform(X_test)"
   ]
  },
  {
   "cell_type": "code",
   "execution_count": 111,
   "metadata": {},
   "outputs": [
    {
     "name": "stdout",
     "output_type": "stream",
     "text": [
      "Test Score:\n",
      " 0.8780487804878049 \n",
      "Train Score:\n",
      " 0.9327217125382263\n"
     ]
    }
   ],
   "source": [
    "grid_rfc_age_bin.best_estimator_.fit(X_train_age_bin_selected,y_train)\n",
    "print(\n",
    "    'Test Score:\\n',\n",
    "    grid_rfc_age_bin.best_estimator_.score(X_test_age_bin_selected,y_test),\n",
    "    '\\nTrain Score:\\n',\n",
    "    grid_rfc_age_bin.best_estimator_.score(X_train_age_bin_selected,y_train)\n",
    ")"
   ]
  },
  {
   "cell_type": "code",
   "execution_count": 112,
   "metadata": {},
   "outputs": [
    {
     "data": {
      "text/plain": [
       "array([[0.17532787, 0.02815255, 0.01493118, 0.02835921, 0.24888015,\n",
       "        0.25653292, 0.01121432, 0.01669611, 0.0189162 , 0.01390441,\n",
       "        0.03094476, 0.01285323, 0.02083382, 0.00854847, 0.01814951,\n",
       "        0.01025495, 0.01266504, 0.03290229, 0.01352123, 0.0092341 ,\n",
       "        0.0171777 ]])"
      ]
     },
     "execution_count": 112,
     "metadata": {},
     "output_type": "execute_result"
    }
   ],
   "source": [
    "grid_rfc_age_bin.best_estimator_.feature_importances_.reshape(1,-1)"
   ]
  },
  {
   "cell_type": "code",
   "execution_count": 113,
   "metadata": {},
   "outputs": [
    {
     "data": {
      "image/png": "[encoded data removed]",
      "text/plain": [
       "<Figure size 1440x144 with 2 Axes>"
      ]
     },
     "metadata": {
      "needs_background": "light"
     },
     "output_type": "display_data"
    }
   ],
   "source": [
    "plt.figure(figsize=(20,2))\n",
    "plt.title(\"Selected Feature Importances\")\n",
    "plt.imshow(grid_rfc_age_bin.best_estimator_.feature_importances_.reshape(1,-1))\n",
    "plt.xticks((range(21)),selected_features,rotation=45)\n",
    "plt.yticks(())\n",
    "plt.xlabel(\"Selecetd\")\n",
    "plt.colorbar()\n",
    "plt.show()"
   ]
  },
  {
   "cell_type": "code",
   "execution_count": 114,
   "metadata": {},
   "outputs": [
    {
     "name": "stdout",
     "output_type": "stream",
     "text": [
      "MODEL RESULT\n",
      "============\n",
      "Confusion Matrix:\n",
      " [[194  14]\n",
      " [ 26  94]]\n",
      "\n",
      "Classification Report:\n",
      "               precision    recall  f1-score   support\n",
      "\n",
      "           1       0.88      0.93      0.91       208\n",
      "           0       0.87      0.78      0.82       120\n",
      "\n",
      "   micro avg       0.88      0.88      0.88       328\n",
      "   macro avg       0.88      0.86      0.87       328\n",
      "weighted avg       0.88      0.88      0.88       328\n",
      "\n"
     ]
    },
    {
     "data": {
      "image/png": "[encoded data removed]",
      "text/plain": [
       "<Figure size 432x288 with 2 Axes>"
      ]
     },
     "metadata": {
      "needs_background": "light"
     },
     "output_type": "display_data"
    }
   ],
   "source": [
    "classreport(grid_rfc_age_bin.best_estimator_,X_test_age_bin_selected)"
   ]
  },
  {
   "cell_type": "markdown",
   "metadata": {},
   "source": [
    "## With Age and Fare Binning"
   ]
  },
  {
   "cell_type": "code",
   "execution_count": 115,
   "metadata": {},
   "outputs": [
    {
     "data": {
      "text/html": [
       "<div>\n",
       "<style scoped>\n",
       "    .dataframe tbody tr th:only-of-type {\n",
       "        vertical-align: middle;\n",
       "    }\n",
       "\n",
       "    .dataframe tbody tr th {\n",
       "        vertical-align: top;\n",
       "    }\n",
       "\n",
       "    .dataframe thead th {\n",
       "        text-align: right;\n",
       "    }\n",
       "</style>\n",
       "<table border=\"1\" class=\"dataframe\">\n",
       "  <thead>\n",
       "    <tr style=\"text-align: right;\">\n",
       "      <th></th>\n",
       "      <th>Pclass</th>\n",
       "      <th>Sex</th>\n",
       "      <th>Age</th>\n",
       "      <th>SibSp</th>\n",
       "      <th>Parch</th>\n",
       "      <th>Fare</th>\n",
       "      <th>Cabin</th>\n",
       "      <th>Embarked</th>\n",
       "    </tr>\n",
       "  </thead>\n",
       "  <tbody>\n",
       "    <tr>\n",
       "      <th>0</th>\n",
       "      <td>3</td>\n",
       "      <td>male</td>\n",
       "      <td>20-30</td>\n",
       "      <td>1</td>\n",
       "      <td>0</td>\n",
       "      <td>7.2500</td>\n",
       "      <td>B45</td>\n",
       "      <td>S</td>\n",
       "    </tr>\n",
       "    <tr>\n",
       "      <th>1</th>\n",
       "      <td>1</td>\n",
       "      <td>female</td>\n",
       "      <td>30-40</td>\n",
       "      <td>1</td>\n",
       "      <td>0</td>\n",
       "      <td>71.2833</td>\n",
       "      <td>C85</td>\n",
       "      <td>C</td>\n",
       "    </tr>\n",
       "    <tr>\n",
       "      <th>2</th>\n",
       "      <td>3</td>\n",
       "      <td>female</td>\n",
       "      <td>20-30</td>\n",
       "      <td>0</td>\n",
       "      <td>0</td>\n",
       "      <td>7.9250</td>\n",
       "      <td>B45</td>\n",
       "      <td>S</td>\n",
       "    </tr>\n",
       "    <tr>\n",
       "      <th>3</th>\n",
       "      <td>1</td>\n",
       "      <td>female</td>\n",
       "      <td>30-40</td>\n",
       "      <td>1</td>\n",
       "      <td>0</td>\n",
       "      <td>53.1000</td>\n",
       "      <td>C123</td>\n",
       "      <td>S</td>\n",
       "    </tr>\n",
       "    <tr>\n",
       "      <th>4</th>\n",
       "      <td>3</td>\n",
       "      <td>male</td>\n",
       "      <td>30-40</td>\n",
       "      <td>0</td>\n",
       "      <td>0</td>\n",
       "      <td>8.0500</td>\n",
       "      <td>B45</td>\n",
       "      <td>S</td>\n",
       "    </tr>\n",
       "  </tbody>\n",
       "</table>\n",
       "</div>"
      ],
      "text/plain": [
       "  Pclass     Sex    Age SibSp Parch     Fare Cabin Embarked\n",
       "0      3    male  20-30     1     0   7.2500   B45        S\n",
       "1      1  female  30-40     1     0  71.2833   C85        C\n",
       "2      3  female  20-30     0     0   7.9250   B45        S\n",
       "3      1  female  30-40     1     0  53.1000  C123        S\n",
       "4      3    male  30-40     0     0   8.0500   B45        S"
      ]
     },
     "execution_count": 115,
     "metadata": {},
     "output_type": "execute_result"
    }
   ],
   "source": [
    "data.head()"
   ]
  },
  {
   "cell_type": "code",
   "execution_count": 116,
   "metadata": {},
   "outputs": [
    {
     "data": {
      "text/plain": [
       "['20-30', '30-40', '20-30', '30-40', '30-40', '30-40']"
      ]
     },
     "execution_count": 116,
     "metadata": {},
     "output_type": "execute_result"
    }
   ],
   "source": [
    "ages[:6]"
   ]
  },
  {
   "cell_type": "code",
   "execution_count": 117,
   "metadata": {},
   "outputs": [
    {
     "data": {
      "image/png": "[encoded data removed]",
      "text/plain": [
       "<Figure size 1080x360 with 1 Axes>"
      ]
     },
     "metadata": {
      "needs_background": "light"
     },
     "output_type": "display_data"
    }
   ],
   "source": [
    "plt.figure(figsize=(15,5))\n",
    "plt.title(\"Fare Distribution\")\n",
    "plt.bar(data.Fare.value_counts().keys(),data.Fare.value_counts().values)\n",
    "plt.xlabel(\"Fare\")\n",
    "plt.ylabel(\"Person Count\")\n",
    "plt.show()"
   ]
  },
  {
   "cell_type": "code",
   "execution_count": 118,
   "metadata": {
    "scrolled": false
   },
   "outputs": [
    {
     "data": {
      "text/plain": [
       "8.0500     60\n",
       "13.0000    59\n",
       "7.7500     55\n",
       "26.0000    50\n",
       "7.8958     50\n",
       "10.5000    35\n",
       "7.7750     26\n",
       "7.2292     24\n",
       "7.9250     23\n",
       "26.5500    22\n",
       "8.6625     21\n",
       "7.8542     21\n",
       "7.2250     21\n",
       "7.2500     18\n",
       "0.0000     17\n",
       "21.0000    14\n",
       "9.5000     12\n",
       "16.1000    12\n",
       "14.5000    11\n",
       "69.5500    11\n",
       "27.7208    11\n",
       "7.7958     10\n",
       "14.4542    10\n",
       "7.8792     10\n",
       "15.5000    10\n",
       "24.1500     9\n",
       "15.2458     9\n",
       "7.0500      9\n",
       "56.4958     8\n",
       "46.9000     8\n",
       "           ..\n",
       "45.5000     1\n",
       "8.4333      1\n",
       "8.1583      1\n",
       "8.0292      1\n",
       "12.7375     1\n",
       "31.6833     1\n",
       "42.5000     1\n",
       "34.0208     1\n",
       "25.9250     1\n",
       "12.6500     1\n",
       "7.0458      1\n",
       "49.5000     1\n",
       "7.7208      1\n",
       "32.3208     1\n",
       "6.4500      1\n",
       "8.3000      1\n",
       "7.5208      1\n",
       "28.7125     1\n",
       "25.5875     1\n",
       "7.7292      1\n",
       "9.8458      1\n",
       "8.6542      1\n",
       "25.7000     1\n",
       "10.1708     1\n",
       "7.3125      1\n",
       "33.5000     1\n",
       "7.8000      1\n",
       "26.3875     1\n",
       "15.5792     1\n",
       "7.1417      1\n",
       "Name: Fare, Length: 281, dtype: int64"
      ]
     },
     "execution_count": 118,
     "metadata": {},
     "output_type": "execute_result"
    }
   ],
   "source": [
    "data.Fare.value_counts()"
   ]
  },
  {
   "cell_type": "code",
   "execution_count": 119,
   "metadata": {},
   "outputs": [],
   "source": [
    "fares=[]\n",
    "for fare in data.Fare.values:\n",
    "    if fare<33.3:\n",
    "        fares.append('CHEAP')\n",
    "    elif fare>33.3 and fare<66.6:\n",
    "        fares.append('AVERAGE')\n",
    "    elif fare>66.6 and fare<100:\n",
    "        fares.append('EXPENSIVE')\n",
    "    else:\n",
    "        fares.append('VERY EXPENSIVE')"
   ]
  },
  {
   "cell_type": "code",
   "execution_count": 120,
   "metadata": {},
   "outputs": [
    {
     "data": {
      "text/plain": [
       "1309"
      ]
     },
     "execution_count": 120,
     "metadata": {},
     "output_type": "execute_result"
    }
   ],
   "source": [
    "len(fares)"
   ]
  },
  {
   "cell_type": "code",
   "execution_count": 121,
   "metadata": {},
   "outputs": [
    {
     "data": {
      "text/plain": [
       "array([ 7.25  , 71.2833,  7.925 , ...,  7.25  ,  8.05  , 22.3583])"
      ]
     },
     "execution_count": 121,
     "metadata": {},
     "output_type": "execute_result"
    }
   ],
   "source": [
    "data.Fare.values"
   ]
  },
  {
   "cell_type": "code",
   "execution_count": 122,
   "metadata": {},
   "outputs": [
    {
     "data": {
      "text/html": [
       "<div>\n",
       "<style scoped>\n",
       "    .dataframe tbody tr th:only-of-type {\n",
       "        vertical-align: middle;\n",
       "    }\n",
       "\n",
       "    .dataframe tbody tr th {\n",
       "        vertical-align: top;\n",
       "    }\n",
       "\n",
       "    .dataframe thead th {\n",
       "        text-align: right;\n",
       "    }\n",
       "</style>\n",
       "<table border=\"1\" class=\"dataframe\">\n",
       "  <thead>\n",
       "    <tr style=\"text-align: right;\">\n",
       "      <th></th>\n",
       "      <th>Fare</th>\n",
       "      <th>Pclass_1</th>\n",
       "      <th>Pclass_2</th>\n",
       "      <th>Pclass_3</th>\n",
       "      <th>Sex_female</th>\n",
       "      <th>Sex_male</th>\n",
       "      <th>Age_10-20</th>\n",
       "      <th>Age_20-30</th>\n",
       "      <th>Age_30-40</th>\n",
       "      <th>Age_40-50</th>\n",
       "      <th>...</th>\n",
       "      <th>Cabin_F G73</th>\n",
       "      <th>Cabin_F2</th>\n",
       "      <th>Cabin_F33</th>\n",
       "      <th>Cabin_F38</th>\n",
       "      <th>Cabin_F4</th>\n",
       "      <th>Cabin_G6</th>\n",
       "      <th>Cabin_T</th>\n",
       "      <th>Embarked_C</th>\n",
       "      <th>Embarked_Q</th>\n",
       "      <th>Embarked_S</th>\n",
       "    </tr>\n",
       "  </thead>\n",
       "  <tbody>\n",
       "    <tr>\n",
       "      <th>0</th>\n",
       "      <td>7.2500</td>\n",
       "      <td>0</td>\n",
       "      <td>0</td>\n",
       "      <td>1</td>\n",
       "      <td>0</td>\n",
       "      <td>1</td>\n",
       "      <td>0</td>\n",
       "      <td>1</td>\n",
       "      <td>0</td>\n",
       "      <td>0</td>\n",
       "      <td>...</td>\n",
       "      <td>0</td>\n",
       "      <td>0</td>\n",
       "      <td>0</td>\n",
       "      <td>0</td>\n",
       "      <td>0</td>\n",
       "      <td>0</td>\n",
       "      <td>0</td>\n",
       "      <td>0</td>\n",
       "      <td>0</td>\n",
       "      <td>1</td>\n",
       "    </tr>\n",
       "    <tr>\n",
       "      <th>1</th>\n",
       "      <td>71.2833</td>\n",
       "      <td>1</td>\n",
       "      <td>0</td>\n",
       "      <td>0</td>\n",
       "      <td>1</td>\n",
       "      <td>0</td>\n",
       "      <td>0</td>\n",
       "      <td>0</td>\n",
       "      <td>1</td>\n",
       "      <td>0</td>\n",
       "      <td>...</td>\n",
       "      <td>0</td>\n",
       "      <td>0</td>\n",
       "      <td>0</td>\n",
       "      <td>0</td>\n",
       "      <td>0</td>\n",
       "      <td>0</td>\n",
       "      <td>0</td>\n",
       "      <td>1</td>\n",
       "      <td>0</td>\n",
       "      <td>0</td>\n",
       "    </tr>\n",
       "    <tr>\n",
       "      <th>2</th>\n",
       "      <td>7.9250</td>\n",
       "      <td>0</td>\n",
       "      <td>0</td>\n",
       "      <td>1</td>\n",
       "      <td>1</td>\n",
       "      <td>0</td>\n",
       "      <td>0</td>\n",
       "      <td>1</td>\n",
       "      <td>0</td>\n",
       "      <td>0</td>\n",
       "      <td>...</td>\n",
       "      <td>0</td>\n",
       "      <td>0</td>\n",
       "      <td>0</td>\n",
       "      <td>0</td>\n",
       "      <td>0</td>\n",
       "      <td>0</td>\n",
       "      <td>0</td>\n",
       "      <td>0</td>\n",
       "      <td>0</td>\n",
       "      <td>1</td>\n",
       "    </tr>\n",
       "    <tr>\n",
       "      <th>3</th>\n",
       "      <td>53.1000</td>\n",
       "      <td>1</td>\n",
       "      <td>0</td>\n",
       "      <td>0</td>\n",
       "      <td>1</td>\n",
       "      <td>0</td>\n",
       "      <td>0</td>\n",
       "      <td>0</td>\n",
       "      <td>1</td>\n",
       "      <td>0</td>\n",
       "      <td>...</td>\n",
       "      <td>0</td>\n",
       "      <td>0</td>\n",
       "      <td>0</td>\n",
       "      <td>0</td>\n",
       "      <td>0</td>\n",
       "      <td>0</td>\n",
       "      <td>0</td>\n",
       "      <td>0</td>\n",
       "      <td>0</td>\n",
       "      <td>1</td>\n",
       "    </tr>\n",
       "    <tr>\n",
       "      <th>4</th>\n",
       "      <td>8.0500</td>\n",
       "      <td>0</td>\n",
       "      <td>0</td>\n",
       "      <td>1</td>\n",
       "      <td>0</td>\n",
       "      <td>1</td>\n",
       "      <td>0</td>\n",
       "      <td>0</td>\n",
       "      <td>1</td>\n",
       "      <td>0</td>\n",
       "      <td>...</td>\n",
       "      <td>0</td>\n",
       "      <td>0</td>\n",
       "      <td>0</td>\n",
       "      <td>0</td>\n",
       "      <td>0</td>\n",
       "      <td>0</td>\n",
       "      <td>0</td>\n",
       "      <td>0</td>\n",
       "      <td>0</td>\n",
       "      <td>1</td>\n",
       "    </tr>\n",
       "  </tbody>\n",
       "</table>\n",
       "<p>5 rows × 219 columns</p>\n",
       "</div>"
      ],
      "text/plain": [
       "      Fare  Pclass_1  Pclass_2  Pclass_3  Sex_female  Sex_male  Age_10-20  \\\n",
       "0   7.2500         0         0         1           0         1          0   \n",
       "1  71.2833         1         0         0           1         0          0   \n",
       "2   7.9250         0         0         1           1         0          0   \n",
       "3  53.1000         1         0         0           1         0          0   \n",
       "4   8.0500         0         0         1           0         1          0   \n",
       "\n",
       "   Age_20-30  Age_30-40  Age_40-50  ...  Cabin_F G73  Cabin_F2  Cabin_F33  \\\n",
       "0          1          0          0  ...            0         0          0   \n",
       "1          0          1          0  ...            0         0          0   \n",
       "2          1          0          0  ...            0         0          0   \n",
       "3          0          1          0  ...            0         0          0   \n",
       "4          0          1          0  ...            0         0          0   \n",
       "\n",
       "   Cabin_F38  Cabin_F4  Cabin_G6  Cabin_T  Embarked_C  Embarked_Q  Embarked_S  \n",
       "0          0         0         0        0           0           0           1  \n",
       "1          0         0         0        0           1           0           0  \n",
       "2          0         0         0        0           0           0           1  \n",
       "3          0         0         0        0           0           0           1  \n",
       "4          0         0         0        0           0           0           1  \n",
       "\n",
       "[5 rows x 219 columns]"
      ]
     },
     "execution_count": 122,
     "metadata": {},
     "output_type": "execute_result"
    }
   ],
   "source": [
    "data_age_bin.head()"
   ]
  },
  {
   "cell_type": "code",
   "execution_count": 123,
   "metadata": {},
   "outputs": [],
   "source": [
    "data_age_fare_bin=data_age_bin"
   ]
  },
  {
   "cell_type": "code",
   "execution_count": 124,
   "metadata": {},
   "outputs": [],
   "source": [
    "data_age_fare_bin.Fare=fares"
   ]
  },
  {
   "cell_type": "code",
   "execution_count": 125,
   "metadata": {},
   "outputs": [
    {
     "data": {
      "text/html": [
       "<div>\n",
       "<style scoped>\n",
       "    .dataframe tbody tr th:only-of-type {\n",
       "        vertical-align: middle;\n",
       "    }\n",
       "\n",
       "    .dataframe tbody tr th {\n",
       "        vertical-align: top;\n",
       "    }\n",
       "\n",
       "    .dataframe thead th {\n",
       "        text-align: right;\n",
       "    }\n",
       "</style>\n",
       "<table border=\"1\" class=\"dataframe\">\n",
       "  <thead>\n",
       "    <tr style=\"text-align: right;\">\n",
       "      <th></th>\n",
       "      <th>Fare</th>\n",
       "      <th>Pclass_1</th>\n",
       "      <th>Pclass_2</th>\n",
       "      <th>Pclass_3</th>\n",
       "      <th>Sex_female</th>\n",
       "      <th>Sex_male</th>\n",
       "      <th>Age_10-20</th>\n",
       "      <th>Age_20-30</th>\n",
       "      <th>Age_30-40</th>\n",
       "      <th>Age_40-50</th>\n",
       "      <th>...</th>\n",
       "      <th>Cabin_F G73</th>\n",
       "      <th>Cabin_F2</th>\n",
       "      <th>Cabin_F33</th>\n",
       "      <th>Cabin_F38</th>\n",
       "      <th>Cabin_F4</th>\n",
       "      <th>Cabin_G6</th>\n",
       "      <th>Cabin_T</th>\n",
       "      <th>Embarked_C</th>\n",
       "      <th>Embarked_Q</th>\n",
       "      <th>Embarked_S</th>\n",
       "    </tr>\n",
       "  </thead>\n",
       "  <tbody>\n",
       "    <tr>\n",
       "      <th>0</th>\n",
       "      <td>CHEAP</td>\n",
       "      <td>0</td>\n",
       "      <td>0</td>\n",
       "      <td>1</td>\n",
       "      <td>0</td>\n",
       "      <td>1</td>\n",
       "      <td>0</td>\n",
       "      <td>1</td>\n",
       "      <td>0</td>\n",
       "      <td>0</td>\n",
       "      <td>...</td>\n",
       "      <td>0</td>\n",
       "      <td>0</td>\n",
       "      <td>0</td>\n",
       "      <td>0</td>\n",
       "      <td>0</td>\n",
       "      <td>0</td>\n",
       "      <td>0</td>\n",
       "      <td>0</td>\n",
       "      <td>0</td>\n",
       "      <td>1</td>\n",
       "    </tr>\n",
       "    <tr>\n",
       "      <th>1</th>\n",
       "      <td>EXPENSIVE</td>\n",
       "      <td>1</td>\n",
       "      <td>0</td>\n",
       "      <td>0</td>\n",
       "      <td>1</td>\n",
       "      <td>0</td>\n",
       "      <td>0</td>\n",
       "      <td>0</td>\n",
       "      <td>1</td>\n",
       "      <td>0</td>\n",
       "      <td>...</td>\n",
       "      <td>0</td>\n",
       "      <td>0</td>\n",
       "      <td>0</td>\n",
       "      <td>0</td>\n",
       "      <td>0</td>\n",
       "      <td>0</td>\n",
       "      <td>0</td>\n",
       "      <td>1</td>\n",
       "      <td>0</td>\n",
       "      <td>0</td>\n",
       "    </tr>\n",
       "    <tr>\n",
       "      <th>2</th>\n",
       "      <td>CHEAP</td>\n",
       "      <td>0</td>\n",
       "      <td>0</td>\n",
       "      <td>1</td>\n",
       "      <td>1</td>\n",
       "      <td>0</td>\n",
       "      <td>0</td>\n",
       "      <td>1</td>\n",
       "      <td>0</td>\n",
       "      <td>0</td>\n",
       "      <td>...</td>\n",
       "      <td>0</td>\n",
       "      <td>0</td>\n",
       "      <td>0</td>\n",
       "      <td>0</td>\n",
       "      <td>0</td>\n",
       "      <td>0</td>\n",
       "      <td>0</td>\n",
       "      <td>0</td>\n",
       "      <td>0</td>\n",
       "      <td>1</td>\n",
       "    </tr>\n",
       "    <tr>\n",
       "      <th>3</th>\n",
       "      <td>AVERAGE</td>\n",
       "      <td>1</td>\n",
       "      <td>0</td>\n",
       "      <td>0</td>\n",
       "      <td>1</td>\n",
       "      <td>0</td>\n",
       "      <td>0</td>\n",
       "      <td>0</td>\n",
       "      <td>1</td>\n",
       "      <td>0</td>\n",
       "      <td>...</td>\n",
       "      <td>0</td>\n",
       "      <td>0</td>\n",
       "      <td>0</td>\n",
       "      <td>0</td>\n",
       "      <td>0</td>\n",
       "      <td>0</td>\n",
       "      <td>0</td>\n",
       "      <td>0</td>\n",
       "      <td>0</td>\n",
       "      <td>1</td>\n",
       "    </tr>\n",
       "    <tr>\n",
       "      <th>4</th>\n",
       "      <td>CHEAP</td>\n",
       "      <td>0</td>\n",
       "      <td>0</td>\n",
       "      <td>1</td>\n",
       "      <td>0</td>\n",
       "      <td>1</td>\n",
       "      <td>0</td>\n",
       "      <td>0</td>\n",
       "      <td>1</td>\n",
       "      <td>0</td>\n",
       "      <td>...</td>\n",
       "      <td>0</td>\n",
       "      <td>0</td>\n",
       "      <td>0</td>\n",
       "      <td>0</td>\n",
       "      <td>0</td>\n",
       "      <td>0</td>\n",
       "      <td>0</td>\n",
       "      <td>0</td>\n",
       "      <td>0</td>\n",
       "      <td>1</td>\n",
       "    </tr>\n",
       "  </tbody>\n",
       "</table>\n",
       "<p>5 rows × 219 columns</p>\n",
       "</div>"
      ],
      "text/plain": [
       "        Fare  Pclass_1  Pclass_2  Pclass_3  Sex_female  Sex_male  Age_10-20  \\\n",
       "0      CHEAP         0         0         1           0         1          0   \n",
       "1  EXPENSIVE         1         0         0           1         0          0   \n",
       "2      CHEAP         0         0         1           1         0          0   \n",
       "3    AVERAGE         1         0         0           1         0          0   \n",
       "4      CHEAP         0         0         1           0         1          0   \n",
       "\n",
       "   Age_20-30  Age_30-40  Age_40-50  ...  Cabin_F G73  Cabin_F2  Cabin_F33  \\\n",
       "0          1          0          0  ...            0         0          0   \n",
       "1          0          1          0  ...            0         0          0   \n",
       "2          1          0          0  ...            0         0          0   \n",
       "3          0          1          0  ...            0         0          0   \n",
       "4          0          1          0  ...            0         0          0   \n",
       "\n",
       "   Cabin_F38  Cabin_F4  Cabin_G6  Cabin_T  Embarked_C  Embarked_Q  Embarked_S  \n",
       "0          0         0         0        0           0           0           1  \n",
       "1          0         0         0        0           1           0           0  \n",
       "2          0         0         0        0           0           0           1  \n",
       "3          0         0         0        0           0           0           1  \n",
       "4          0         0         0        0           0           0           1  \n",
       "\n",
       "[5 rows x 219 columns]"
      ]
     },
     "execution_count": 125,
     "metadata": {},
     "output_type": "execute_result"
    }
   ],
   "source": [
    "data_age_fare_bin.head()"
   ]
  },
  {
   "cell_type": "code",
   "execution_count": 126,
   "metadata": {},
   "outputs": [],
   "source": [
    "fare_value_counts=data_age_fare_bin.Fare.value_counts()"
   ]
  },
  {
   "cell_type": "code",
   "execution_count": 127,
   "metadata": {},
   "outputs": [
    {
     "data": {
      "text/plain": [
       "CHEAP             1005\n",
       "AVERAGE            133\n",
       "VERY EXPENSIVE      86\n",
       "EXPENSIVE           85\n",
       "Name: Fare, dtype: int64"
      ]
     },
     "execution_count": 127,
     "metadata": {},
     "output_type": "execute_result"
    }
   ],
   "source": [
    "fare_value_counts"
   ]
  },
  {
   "cell_type": "code",
   "execution_count": 128,
   "metadata": {},
   "outputs": [
    {
     "name": "stdout",
     "output_type": "stream",
     "text": [
      "<class 'pandas.core.frame.DataFrame'>\n",
      "Int64Index: 1309 entries, 0 to 1308\n",
      "Columns: 219 entries, Fare to Embarked_S\n",
      "dtypes: object(1), uint8(218)\n",
      "memory usage: 299.1+ KB\n"
     ]
    }
   ],
   "source": [
    "data_age_fare_bin.info()"
   ]
  },
  {
   "cell_type": "code",
   "execution_count": 129,
   "metadata": {},
   "outputs": [],
   "source": [
    "data_age_fare_bin=pd.get_dummies(data_age_fare_bin)"
   ]
  },
  {
   "cell_type": "code",
   "execution_count": 130,
   "metadata": {},
   "outputs": [
    {
     "data": {
      "text/html": [
       "<div>\n",
       "<style scoped>\n",
       "    .dataframe tbody tr th:only-of-type {\n",
       "        vertical-align: middle;\n",
       "    }\n",
       "\n",
       "    .dataframe tbody tr th {\n",
       "        vertical-align: top;\n",
       "    }\n",
       "\n",
       "    .dataframe thead th {\n",
       "        text-align: right;\n",
       "    }\n",
       "</style>\n",
       "<table border=\"1\" class=\"dataframe\">\n",
       "  <thead>\n",
       "    <tr style=\"text-align: right;\">\n",
       "      <th></th>\n",
       "      <th>Pclass_1</th>\n",
       "      <th>Pclass_2</th>\n",
       "      <th>Pclass_3</th>\n",
       "      <th>Sex_female</th>\n",
       "      <th>Sex_male</th>\n",
       "      <th>Age_10-20</th>\n",
       "      <th>Age_20-30</th>\n",
       "      <th>Age_30-40</th>\n",
       "      <th>Age_40-50</th>\n",
       "      <th>Age_50-60</th>\n",
       "      <th>...</th>\n",
       "      <th>Cabin_F4</th>\n",
       "      <th>Cabin_G6</th>\n",
       "      <th>Cabin_T</th>\n",
       "      <th>Embarked_C</th>\n",
       "      <th>Embarked_Q</th>\n",
       "      <th>Embarked_S</th>\n",
       "      <th>Fare_AVERAGE</th>\n",
       "      <th>Fare_CHEAP</th>\n",
       "      <th>Fare_EXPENSIVE</th>\n",
       "      <th>Fare_VERY EXPENSIVE</th>\n",
       "    </tr>\n",
       "  </thead>\n",
       "  <tbody>\n",
       "    <tr>\n",
       "      <th>0</th>\n",
       "      <td>0</td>\n",
       "      <td>0</td>\n",
       "      <td>1</td>\n",
       "      <td>0</td>\n",
       "      <td>1</td>\n",
       "      <td>0</td>\n",
       "      <td>1</td>\n",
       "      <td>0</td>\n",
       "      <td>0</td>\n",
       "      <td>0</td>\n",
       "      <td>...</td>\n",
       "      <td>0</td>\n",
       "      <td>0</td>\n",
       "      <td>0</td>\n",
       "      <td>0</td>\n",
       "      <td>0</td>\n",
       "      <td>1</td>\n",
       "      <td>0</td>\n",
       "      <td>1</td>\n",
       "      <td>0</td>\n",
       "      <td>0</td>\n",
       "    </tr>\n",
       "    <tr>\n",
       "      <th>1</th>\n",
       "      <td>1</td>\n",
       "      <td>0</td>\n",
       "      <td>0</td>\n",
       "      <td>1</td>\n",
       "      <td>0</td>\n",
       "      <td>0</td>\n",
       "      <td>0</td>\n",
       "      <td>1</td>\n",
       "      <td>0</td>\n",
       "      <td>0</td>\n",
       "      <td>...</td>\n",
       "      <td>0</td>\n",
       "      <td>0</td>\n",
       "      <td>0</td>\n",
       "      <td>1</td>\n",
       "      <td>0</td>\n",
       "      <td>0</td>\n",
       "      <td>0</td>\n",
       "      <td>0</td>\n",
       "      <td>1</td>\n",
       "      <td>0</td>\n",
       "    </tr>\n",
       "    <tr>\n",
       "      <th>2</th>\n",
       "      <td>0</td>\n",
       "      <td>0</td>\n",
       "      <td>1</td>\n",
       "      <td>1</td>\n",
       "      <td>0</td>\n",
       "      <td>0</td>\n",
       "      <td>1</td>\n",
       "      <td>0</td>\n",
       "      <td>0</td>\n",
       "      <td>0</td>\n",
       "      <td>...</td>\n",
       "      <td>0</td>\n",
       "      <td>0</td>\n",
       "      <td>0</td>\n",
       "      <td>0</td>\n",
       "      <td>0</td>\n",
       "      <td>1</td>\n",
       "      <td>0</td>\n",
       "      <td>1</td>\n",
       "      <td>0</td>\n",
       "      <td>0</td>\n",
       "    </tr>\n",
       "    <tr>\n",
       "      <th>3</th>\n",
       "      <td>1</td>\n",
       "      <td>0</td>\n",
       "      <td>0</td>\n",
       "      <td>1</td>\n",
       "      <td>0</td>\n",
       "      <td>0</td>\n",
       "      <td>0</td>\n",
       "      <td>1</td>\n",
       "      <td>0</td>\n",
       "      <td>0</td>\n",
       "      <td>...</td>\n",
       "      <td>0</td>\n",
       "      <td>0</td>\n",
       "      <td>0</td>\n",
       "      <td>0</td>\n",
       "      <td>0</td>\n",
       "      <td>1</td>\n",
       "      <td>1</td>\n",
       "      <td>0</td>\n",
       "      <td>0</td>\n",
       "      <td>0</td>\n",
       "    </tr>\n",
       "    <tr>\n",
       "      <th>4</th>\n",
       "      <td>0</td>\n",
       "      <td>0</td>\n",
       "      <td>1</td>\n",
       "      <td>0</td>\n",
       "      <td>1</td>\n",
       "      <td>0</td>\n",
       "      <td>0</td>\n",
       "      <td>1</td>\n",
       "      <td>0</td>\n",
       "      <td>0</td>\n",
       "      <td>...</td>\n",
       "      <td>0</td>\n",
       "      <td>0</td>\n",
       "      <td>0</td>\n",
       "      <td>0</td>\n",
       "      <td>0</td>\n",
       "      <td>1</td>\n",
       "      <td>0</td>\n",
       "      <td>1</td>\n",
       "      <td>0</td>\n",
       "      <td>0</td>\n",
       "    </tr>\n",
       "  </tbody>\n",
       "</table>\n",
       "<p>5 rows × 222 columns</p>\n",
       "</div>"
      ],
      "text/plain": [
       "   Pclass_1  Pclass_2  Pclass_3  Sex_female  Sex_male  Age_10-20  Age_20-30  \\\n",
       "0         0         0         1           0         1          0          1   \n",
       "1         1         0         0           1         0          0          0   \n",
       "2         0         0         1           1         0          0          1   \n",
       "3         1         0         0           1         0          0          0   \n",
       "4         0         0         1           0         1          0          0   \n",
       "\n",
       "   Age_30-40  Age_40-50  Age_50-60  ...  Cabin_F4  Cabin_G6  Cabin_T  \\\n",
       "0          0          0          0  ...         0         0        0   \n",
       "1          1          0          0  ...         0         0        0   \n",
       "2          0          0          0  ...         0         0        0   \n",
       "3          1          0          0  ...         0         0        0   \n",
       "4          1          0          0  ...         0         0        0   \n",
       "\n",
       "   Embarked_C  Embarked_Q  Embarked_S  Fare_AVERAGE  Fare_CHEAP  \\\n",
       "0           0           0           1             0           1   \n",
       "1           1           0           0             0           0   \n",
       "2           0           0           1             0           1   \n",
       "3           0           0           1             1           0   \n",
       "4           0           0           1             0           1   \n",
       "\n",
       "   Fare_EXPENSIVE  Fare_VERY EXPENSIVE  \n",
       "0               0                    0  \n",
       "1               1                    0  \n",
       "2               0                    0  \n",
       "3               0                    0  \n",
       "4               0                    0  \n",
       "\n",
       "[5 rows x 222 columns]"
      ]
     },
     "execution_count": 130,
     "metadata": {},
     "output_type": "execute_result"
    }
   ],
   "source": [
    "data_age_fare_bin.head()"
   ]
  },
  {
   "cell_type": "code",
   "execution_count": 131,
   "metadata": {},
   "outputs": [],
   "source": [
    "X=data_age_fare_bin.values"
   ]
  },
  {
   "cell_type": "code",
   "execution_count": 132,
   "metadata": {},
   "outputs": [],
   "source": [
    "X_train,X_test,y_train,y_test=train_test_split(X,y,random_state=32,test_size=0.25)"
   ]
  },
  {
   "cell_type": "code",
   "execution_count": 133,
   "metadata": {},
   "outputs": [
    {
     "data": {
      "text/plain": [
       "((981, 222), (328, 222), (981,), (328,))"
      ]
     },
     "execution_count": 133,
     "metadata": {},
     "output_type": "execute_result"
    }
   ],
   "source": [
    "X_train.shape, X_test.shape, y_train.shape, y_test.shape"
   ]
  },
  {
   "cell_type": "markdown",
   "metadata": {},
   "source": [
    "## Using Random Forests"
   ]
  },
  {
   "cell_type": "code",
   "execution_count": 134,
   "metadata": {},
   "outputs": [
    {
     "name": "stdout",
     "output_type": "stream",
     "text": [
      "Best Estimator:\n",
      " RandomForestClassifier(bootstrap=True, class_weight=None, criterion='gini',\n",
      "            max_depth=10, max_features='auto', max_leaf_nodes=None,\n",
      "            min_impurity_decrease=0.0, min_impurity_split=None,\n",
      "            min_samples_leaf=1, min_samples_split=2,\n",
      "            min_weight_fraction_leaf=0.0, n_estimators=500, n_jobs=None,\n",
      "            oob_score=False, random_state=None, verbose=0,\n",
      "            warm_start=False) \n",
      "Best CV Score:\n",
      " 0.8593272171253823 \n",
      "Test Score:\n",
      " 0.8689024390243902 \n",
      "Train Score:\n",
      " 0.8888888888888888\n"
     ]
    }
   ],
   "source": [
    "param_grid={\n",
    "    'max_depth':[2,3,4,5,10,15],\n",
    "    'n_estimators':[50,100,150,200,500,1000],\n",
    "}\n",
    "grid_rfc_age_fare_bin=GridSearchCV(RandomForestClassifier(), param_grid, n_jobs=-1,cv=5)\n",
    "grid_rfc_age_fare_bin.fit(X_train,y_train)\n",
    "print(\n",
    "    'Best Estimator:\\n',\n",
    "    grid_rfc_age_fare_bin.best_estimator_,\n",
    "    '\\nBest CV Score:\\n',\n",
    "    grid_rfc_age_fare_bin.best_score_,\n",
    "    '\\nTest Score:\\n',\n",
    "    grid_rfc_age_fare_bin.best_estimator_.score(X_test,y_test),\n",
    "    '\\nTrain Score:\\n',\n",
    "    grid_rfc_age_fare_bin.best_estimator_.score(X_train,y_train)\n",
    ")"
   ]
  },
  {
   "cell_type": "code",
   "execution_count": 135,
   "metadata": {
    "scrolled": false
   },
   "outputs": [
    {
     "data": {
      "text/plain": [
       "array([1.92320150e-02, 1.27658361e-02, 2.99281381e-02, 2.68690847e-01,\n",
       "       2.94087416e-01, 7.66639724e-03, 8.64525164e-03, 1.05238154e-02,\n",
       "       7.47044700e-03, 4.20907339e-03, 2.81498407e-03, 1.05232969e-03,\n",
       "       1.72485117e-02, 1.61588655e-03, 1.53647607e-02, 2.28233439e-02,\n",
       "       4.39121019e-03, 7.42522078e-03, 6.89314026e-03, 1.07756386e-03,\n",
       "       3.81308507e-03, 2.56867438e-02, 1.39341885e-02, 1.12727800e-02,\n",
       "       1.34437169e-03, 1.88091268e-03, 2.95717951e-03, 9.49611031e-04,\n",
       "       6.74626679e-04, 2.78543153e-04, 3.16040478e-04, 0.00000000e+00,\n",
       "       1.34369130e-04, 1.09982833e-04, 6.65574927e-05, 1.27189259e-03,\n",
       "       5.23708819e-05, 9.88423224e-04, 0.00000000e+00, 1.01355343e-03,\n",
       "       0.00000000e+00, 0.00000000e+00, 2.62854198e-04, 1.01549645e-03,\n",
       "       1.07919742e-04, 2.86793867e-04, 1.15227021e-03, 1.69729955e-04,\n",
       "       0.00000000e+00, 1.72014336e-04, 7.14268985e-04, 1.08799997e-04,\n",
       "       0.00000000e+00, 1.19068456e-04, 1.48790451e-04, 1.45625816e-03,\n",
       "       2.76311479e-04, 2.07095097e-04, 2.86340634e-04, 2.31735934e-04,\n",
       "       0.00000000e+00, 2.74015697e-04, 1.17541942e-04, 1.33502034e-04,\n",
       "       9.60341009e-05, 6.38668618e-05, 8.73271091e-05, 3.86953314e-04,\n",
       "       1.18160096e-03, 3.21704204e-04, 2.73359886e-02, 1.31927095e-03,\n",
       "       9.96980078e-05, 1.04557399e-03, 1.29026419e-03, 1.09008965e-04,\n",
       "       7.01785247e-04, 3.12489164e-04, 1.03224501e-04, 0.00000000e+00,\n",
       "       3.19722945e-04, 0.00000000e+00, 7.29326624e-04, 1.41477725e-04,\n",
       "       2.65038747e-04, 0.00000000e+00, 2.48249969e-04, 0.00000000e+00,\n",
       "       0.00000000e+00, 1.55378997e-03, 2.01578574e-04, 0.00000000e+00,\n",
       "       0.00000000e+00, 0.00000000e+00, 7.33771197e-04, 0.00000000e+00,\n",
       "       1.04666785e-04, 0.00000000e+00, 0.00000000e+00, 4.03303235e-04,\n",
       "       2.68614128e-04, 3.47334316e-04, 1.18217884e-03, 5.98641158e-05,\n",
       "       0.00000000e+00, 0.00000000e+00, 0.00000000e+00, 2.29438887e-04,\n",
       "       2.40664809e-03, 7.23878603e-04, 0.00000000e+00, 0.00000000e+00,\n",
       "       1.98464034e-04, 1.05063982e-04, 1.56277670e-04, 5.97941705e-05,\n",
       "       3.02687168e-04, 1.18057170e-03, 1.43435616e-03, 4.98935387e-05,\n",
       "       0.00000000e+00, 2.84430618e-03, 2.07466683e-04, 1.39395619e-04,\n",
       "       1.80260791e-04, 8.90448851e-04, 3.49147302e-04, 4.10314589e-05,\n",
       "       4.59445484e-04, 3.31805450e-04, 9.71647759e-04, 6.37846742e-04,\n",
       "       0.00000000e+00, 4.12305308e-04, 2.00596202e-04, 0.00000000e+00,\n",
       "       1.57727260e-04, 7.82778193e-05, 1.76382236e-04, 2.76481772e-04,\n",
       "       5.61838417e-04, 1.77741045e-04, 2.30207417e-04, 0.00000000e+00,\n",
       "       1.04372804e-04, 2.68180281e-04, 5.49483252e-04, 1.74408915e-04,\n",
       "       0.00000000e+00, 0.00000000e+00, 1.04147241e-03, 1.39274440e-03,\n",
       "       3.26936207e-04, 0.00000000e+00, 4.17958540e-05, 6.92234690e-04,\n",
       "       3.92819096e-04, 2.21918905e-04, 1.24287122e-03, 1.32281229e-04,\n",
       "       1.34287452e-03, 2.57734617e-04, 2.52874993e-04, 1.57779786e-04,\n",
       "       2.25733089e-04, 9.03967382e-05, 1.49082912e-03, 7.59018236e-05,\n",
       "       0.00000000e+00, 4.00916495e-04, 1.17595068e-03, 6.48611230e-05,\n",
       "       1.61504299e-03, 8.80301886e-05, 0.00000000e+00, 2.54989282e-04,\n",
       "       1.63625032e-03, 3.83271298e-04, 0.00000000e+00, 2.21952454e-03,\n",
       "       1.23082487e-03, 1.32453155e-03, 1.13588314e-03, 1.68721515e-04,\n",
       "       3.00531275e-04, 8.36335106e-04, 0.00000000e+00, 4.79212972e-05,\n",
       "       1.39160343e-04, 1.89433128e-04, 1.71069540e-04, 9.69897974e-05,\n",
       "       1.45496133e-04, 1.26034625e-04, 9.11923418e-05, 4.43061472e-04,\n",
       "       4.19629830e-05, 0.00000000e+00, 1.00991665e-04, 2.73488932e-04,\n",
       "       2.11139320e-04, 1.61547089e-03, 1.27659195e-03, 6.33237230e-05,\n",
       "       8.69276633e-05, 6.12951294e-05, 4.13399931e-04, 1.13957110e-04,\n",
       "       2.52341844e-04, 9.69393546e-04, 3.15389288e-03, 0.00000000e+00,\n",
       "       1.48335961e-03, 1.27610585e-03, 1.48399363e-04, 1.22851021e-02,\n",
       "       9.27576963e-03, 1.46444604e-02, 8.46683973e-03, 2.29087110e-02,\n",
       "       5.69086453e-03, 1.53271744e-02])"
      ]
     },
     "execution_count": 135,
     "metadata": {},
     "output_type": "execute_result"
    }
   ],
   "source": [
    "grid_rfc_age_fare_bin.best_estimator_.feature_importances_"
   ]
  },
  {
   "cell_type": "code",
   "execution_count": 136,
   "metadata": {},
   "outputs": [
    {
     "name": "stdout",
     "output_type": "stream",
     "text": [
      "MODEL RESULT\n",
      "============\n",
      "Confusion Matrix:\n",
      " [[178  15]\n",
      " [ 28 107]]\n",
      "\n",
      "Classification Report:\n",
      "               precision    recall  f1-score   support\n",
      "\n",
      "           1       0.86      0.92      0.89       193\n",
      "           0       0.88      0.79      0.83       135\n",
      "\n",
      "   micro avg       0.87      0.87      0.87       328\n",
      "   macro avg       0.87      0.86      0.86       328\n",
      "weighted avg       0.87      0.87      0.87       328\n",
      "\n"
     ]
    },
    {
     "data": {
      "image/png": "[encoded data removed]",
      "text/plain": [
       "<Figure size 432x288 with 2 Axes>"
      ]
     },
     "metadata": {
      "needs_background": "light"
     },
     "output_type": "display_data"
    }
   ],
   "source": [
    "classreport(grid_rfc_age_fare_bin.best_estimator_,X_test)"
   ]
  },
  {
   "cell_type": "markdown",
   "metadata": {},
   "source": [
    "#### Feature Selection"
   ]
  },
  {
   "cell_type": "code",
   "execution_count": 137,
   "metadata": {},
   "outputs": [
    {
     "data": {
      "text/plain": [
       "SelectFromModel(estimator=RandomForestClassifier(bootstrap=True, class_weight=None, criterion='gini',\n",
       "            max_depth=10, max_features='auto', max_leaf_nodes=None,\n",
       "            min_impurity_decrease=0.0, min_impurity_split=None,\n",
       "            min_samples_leaf=1, min_samples_split=2,\n",
       "            min_weight_fraction_leaf=0.0, n_estimators=500, n_jobs=None,\n",
       "            oob_score=False, random_state=None, verbose=0,\n",
       "            warm_start=False),\n",
       "        max_features=None, norm_order=1, prefit=False, threshold=None)"
      ]
     },
     "execution_count": 137,
     "metadata": {},
     "output_type": "execute_result"
    }
   ],
   "source": [
    "select=SelectFromModel(grid_rfc_age_fare_bin.best_estimator_)\n",
    "select.fit(X_train,y_train)"
   ]
  },
  {
   "cell_type": "code",
   "execution_count": 138,
   "metadata": {},
   "outputs": [],
   "source": [
    "bool_mask=select.get_support()"
   ]
  },
  {
   "cell_type": "code",
   "execution_count": 139,
   "metadata": {},
   "outputs": [
    {
     "data": {
      "text/plain": [
       "Index(['Pclass_1', 'Pclass_2', 'Pclass_3', 'Sex_female', 'Sex_male',\n",
       "       'Age_10-20', 'Age_20-30', 'Age_30-40', 'Age_40-50', 'Age_50-60',\n",
       "       ...\n",
       "       'Cabin_F4', 'Cabin_G6', 'Cabin_T', 'Embarked_C', 'Embarked_Q',\n",
       "       'Embarked_S', 'Fare_AVERAGE', 'Fare_CHEAP', 'Fare_EXPENSIVE',\n",
       "       'Fare_VERY EXPENSIVE'],\n",
       "      dtype='object', length=222)"
      ]
     },
     "execution_count": 139,
     "metadata": {},
     "output_type": "execute_result"
    }
   ],
   "source": [
    "data_age_fare_bin.columns"
   ]
  },
  {
   "cell_type": "code",
   "execution_count": 140,
   "metadata": {},
   "outputs": [],
   "source": [
    "selected_features=[]\n",
    "for i in range(222):\n",
    "    if bool_mask[i]==True:\n",
    "        selected_features.append(data_age_fare_bin.columns[i])"
   ]
  },
  {
   "cell_type": "code",
   "execution_count": 141,
   "metadata": {},
   "outputs": [
    {
     "data": {
      "text/plain": [
       "['Pclass_1',\n",
       " 'Pclass_2',\n",
       " 'Pclass_3',\n",
       " 'Sex_female',\n",
       " 'Sex_male',\n",
       " 'Age_10-20',\n",
       " 'Age_20-30',\n",
       " 'Age_30-40',\n",
       " 'Age_40-50',\n",
       " 'Age_<10',\n",
       " 'SibSp_0',\n",
       " 'SibSp_1',\n",
       " 'SibSp_2',\n",
       " 'SibSp_3',\n",
       " 'SibSp_4',\n",
       " 'Parch_0',\n",
       " 'Parch_1',\n",
       " 'Parch_2',\n",
       " 'Cabin_B45',\n",
       " 'Embarked_C',\n",
       " 'Embarked_Q',\n",
       " 'Embarked_S',\n",
       " 'Fare_AVERAGE',\n",
       " 'Fare_CHEAP',\n",
       " 'Fare_EXPENSIVE',\n",
       " 'Fare_VERY EXPENSIVE']"
      ]
     },
     "execution_count": 141,
     "metadata": {},
     "output_type": "execute_result"
    }
   ],
   "source": [
    "selected_features"
   ]
  },
  {
   "cell_type": "code",
   "execution_count": 142,
   "metadata": {},
   "outputs": [],
   "source": [
    "X_train_rfc_age_fare_bin=select.transform(X_train)\n",
    "X_test_rfc_age_fare_bin=select.transform(X_test)"
   ]
  },
  {
   "cell_type": "code",
   "execution_count": 143,
   "metadata": {},
   "outputs": [
    {
     "name": "stdout",
     "output_type": "stream",
     "text": [
      "Test Score:\n",
      " 0.8536585365853658 \n",
      "Train Score:\n",
      " 0.9143730886850153\n"
     ]
    }
   ],
   "source": [
    "grid_rfc_age_fare_bin.best_estimator_.fit(X_train_rfc_age_fare_bin,y_train)\n",
    "print(\n",
    "    'Test Score:\\n',\n",
    "    grid_rfc_age_fare_bin.best_estimator_.score(X_test_rfc_age_fare_bin,y_test),\n",
    "    '\\nTrain Score:\\n',\n",
    "    grid_rfc_age_fare_bin.best_estimator_.score(X_train_rfc_age_fare_bin,y_train)\n",
    ")"
   ]
  },
  {
   "cell_type": "code",
   "execution_count": 144,
   "metadata": {},
   "outputs": [
    {
     "data": {
      "image/png": "[encoded data removed]",
      "text/plain": [
       "<Figure size 1440x144 with 2 Axes>"
      ]
     },
     "metadata": {
      "needs_background": "light"
     },
     "output_type": "display_data"
    }
   ],
   "source": [
    "plt.figure(figsize=(20,2))\n",
    "plt.title(\"Selected Feature Importances\")\n",
    "plt.imshow(grid_rfc_age_fare_bin.best_estimator_.feature_importances_.reshape(1,-1))\n",
    "plt.xticks((range(23)),selected_features,rotation=45)\n",
    "plt.yticks(())\n",
    "plt.xlabel(\"Seleceted\")\n",
    "plt.colorbar()\n",
    "plt.show()"
   ]
  },
  {
   "cell_type": "code",
   "execution_count": 145,
   "metadata": {},
   "outputs": [
    {
     "name": "stdout",
     "output_type": "stream",
     "text": [
      "MODEL RESULT\n",
      "============\n",
      "Confusion Matrix:\n",
      " [[172  21]\n",
      " [ 27 108]]\n",
      "\n",
      "Classification Report:\n",
      "               precision    recall  f1-score   support\n",
      "\n",
      "           1       0.86      0.89      0.88       193\n",
      "           0       0.84      0.80      0.82       135\n",
      "\n",
      "   micro avg       0.85      0.85      0.85       328\n",
      "   macro avg       0.85      0.85      0.85       328\n",
      "weighted avg       0.85      0.85      0.85       328\n",
      "\n"
     ]
    },
    {
     "data": {
      "image/png": "[encoded data removed]",
      "text/plain": [
       "<Figure size 432x288 with 2 Axes>"
      ]
     },
     "metadata": {
      "needs_background": "light"
     },
     "output_type": "display_data"
    }
   ],
   "source": [
    "classreport(grid_rfc_age_fare_bin.best_estimator_,X_test_rfc_age_fare_bin)"
   ]
  }
 ],
 "metadata": {
  "kernelspec": {
   "display_name": "Python 3",
   "language": "python",
   "name": "python3"
  },
  "language_info": {
   "codemirror_mode": {
    "name": "ipython",
    "version": 3
   },
   "file_extension": ".py",
   "mimetype": "text/x-python",
   "name": "python",
   "nbconvert_exporter": "python",
   "pygments_lexer": "ipython3",
   "version": "3.7.3"
  }
 },
 "nbformat": 4,
 "nbformat_minor": 2
}
